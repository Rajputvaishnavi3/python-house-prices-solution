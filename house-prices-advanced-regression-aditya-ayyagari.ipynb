{
 "cells": [
  {
   "cell_type": "markdown",
   "metadata": {},
   "source": [
    "# House Prices: Advanced Regression Techniques\n",
    "\n",
    "## This Notebook has:\n",
    "\n",
    "### **Data Preprocessing**\n",
    "* Data cleaning and preprocessing\n",
    "* Handling missing data and anomalies\n",
    "* Transformation of variables\n",
    "\n",
    "### **Feature Engineering**\n",
    "* Extensive feature engineering\n",
    "* Creating new features\n",
    "* Combining existing features\n",
    "* Removing insignificant features\n",
    "\n",
    "### **Modeling**\n",
    "* Various tuned and untuned Advanced Regressors\n",
    "* Combination of Regressors\n",
    "* Stacked Regression technique\n",
    "\n",
    "\n",
    "#### Note:\n",
    "* This includes few of my top submissions."
   ]
  },
  {
   "cell_type": "markdown",
   "metadata": {},
   "source": [
    "### Import Packages"
   ]
  },
  {
   "cell_type": "code",
   "execution_count": 1,
   "metadata": {
    "_cell_guid": "79c7e3d0-c299-4dcb-8224-4455121ee9b0",
    "_uuid": "d629ff2d2480ee46fbb7e2d37f6b5fab8052498a"
   },
   "outputs": [],
   "source": [
    "import pandas as pd\n",
    "import numpy as np\n",
    "from sklearn.model_selection import cross_val_score, train_test_split\n",
    "from sklearn.preprocessing import StandardScaler\n",
    "from sklearn.linear_model import LinearRegression, RidgeCV, LassoCV, ElasticNetCV, ElasticNet, Ridge, Lasso\n",
    "from sklearn.metrics import mean_squared_error, make_scorer\n",
    "from scipy.stats import skew\n",
    "from IPython.display import display\n",
    "import matplotlib.pyplot as plt\n",
    "import seaborn as sns\n",
    "\n",
    "pd.set_option('display.float_format', lambda x: \"%3f\"%x)\n",
    "get_ipython().run_line_magic('matplotlib', 'inline')\n",
    "\n",
    "\n",
    "# ignore Deprecation Warning\n",
    "import warnings\n",
    "warnings.filterwarnings(\"ignore\", category=DeprecationWarning) "
   ]
  },
  {
   "cell_type": "markdown",
   "metadata": {},
   "source": [
    "### Read Data"
   ]
  },
  {
   "cell_type": "code",
   "execution_count": 2,
   "metadata": {},
   "outputs": [
    {
     "name": "stdout",
     "output_type": "stream",
     "text": [
      "(1460, 81)\n"
     ]
    },
    {
     "data": {
      "text/html": [
       "<div>\n",
       "<style scoped>\n",
       "    .dataframe tbody tr th:only-of-type {\n",
       "        vertical-align: middle;\n",
       "    }\n",
       "\n",
       "    .dataframe tbody tr th {\n",
       "        vertical-align: top;\n",
       "    }\n",
       "\n",
       "    .dataframe thead th {\n",
       "        text-align: right;\n",
       "    }\n",
       "</style>\n",
       "<table border=\"1\" class=\"dataframe\">\n",
       "  <thead>\n",
       "    <tr style=\"text-align: right;\">\n",
       "      <th></th>\n",
       "      <th>Id</th>\n",
       "      <th>MSSubClass</th>\n",
       "      <th>MSZoning</th>\n",
       "      <th>LotFrontage</th>\n",
       "      <th>LotArea</th>\n",
       "      <th>Street</th>\n",
       "      <th>Alley</th>\n",
       "      <th>LotShape</th>\n",
       "      <th>LandContour</th>\n",
       "      <th>Utilities</th>\n",
       "      <th>...</th>\n",
       "      <th>PoolArea</th>\n",
       "      <th>PoolQC</th>\n",
       "      <th>Fence</th>\n",
       "      <th>MiscFeature</th>\n",
       "      <th>MiscVal</th>\n",
       "      <th>MoSold</th>\n",
       "      <th>YrSold</th>\n",
       "      <th>SaleType</th>\n",
       "      <th>SaleCondition</th>\n",
       "      <th>SalePrice</th>\n",
       "    </tr>\n",
       "  </thead>\n",
       "  <tbody>\n",
       "    <tr>\n",
       "      <th>0</th>\n",
       "      <td>1</td>\n",
       "      <td>60</td>\n",
       "      <td>RL</td>\n",
       "      <td>65.000000</td>\n",
       "      <td>8450</td>\n",
       "      <td>Pave</td>\n",
       "      <td>NaN</td>\n",
       "      <td>Reg</td>\n",
       "      <td>Lvl</td>\n",
       "      <td>AllPub</td>\n",
       "      <td>...</td>\n",
       "      <td>0</td>\n",
       "      <td>NaN</td>\n",
       "      <td>NaN</td>\n",
       "      <td>NaN</td>\n",
       "      <td>0</td>\n",
       "      <td>2</td>\n",
       "      <td>2008</td>\n",
       "      <td>WD</td>\n",
       "      <td>Normal</td>\n",
       "      <td>208500</td>\n",
       "    </tr>\n",
       "    <tr>\n",
       "      <th>1</th>\n",
       "      <td>2</td>\n",
       "      <td>20</td>\n",
       "      <td>RL</td>\n",
       "      <td>80.000000</td>\n",
       "      <td>9600</td>\n",
       "      <td>Pave</td>\n",
       "      <td>NaN</td>\n",
       "      <td>Reg</td>\n",
       "      <td>Lvl</td>\n",
       "      <td>AllPub</td>\n",
       "      <td>...</td>\n",
       "      <td>0</td>\n",
       "      <td>NaN</td>\n",
       "      <td>NaN</td>\n",
       "      <td>NaN</td>\n",
       "      <td>0</td>\n",
       "      <td>5</td>\n",
       "      <td>2007</td>\n",
       "      <td>WD</td>\n",
       "      <td>Normal</td>\n",
       "      <td>181500</td>\n",
       "    </tr>\n",
       "    <tr>\n",
       "      <th>2</th>\n",
       "      <td>3</td>\n",
       "      <td>60</td>\n",
       "      <td>RL</td>\n",
       "      <td>68.000000</td>\n",
       "      <td>11250</td>\n",
       "      <td>Pave</td>\n",
       "      <td>NaN</td>\n",
       "      <td>IR1</td>\n",
       "      <td>Lvl</td>\n",
       "      <td>AllPub</td>\n",
       "      <td>...</td>\n",
       "      <td>0</td>\n",
       "      <td>NaN</td>\n",
       "      <td>NaN</td>\n",
       "      <td>NaN</td>\n",
       "      <td>0</td>\n",
       "      <td>9</td>\n",
       "      <td>2008</td>\n",
       "      <td>WD</td>\n",
       "      <td>Normal</td>\n",
       "      <td>223500</td>\n",
       "    </tr>\n",
       "    <tr>\n",
       "      <th>3</th>\n",
       "      <td>4</td>\n",
       "      <td>70</td>\n",
       "      <td>RL</td>\n",
       "      <td>60.000000</td>\n",
       "      <td>9550</td>\n",
       "      <td>Pave</td>\n",
       "      <td>NaN</td>\n",
       "      <td>IR1</td>\n",
       "      <td>Lvl</td>\n",
       "      <td>AllPub</td>\n",
       "      <td>...</td>\n",
       "      <td>0</td>\n",
       "      <td>NaN</td>\n",
       "      <td>NaN</td>\n",
       "      <td>NaN</td>\n",
       "      <td>0</td>\n",
       "      <td>2</td>\n",
       "      <td>2006</td>\n",
       "      <td>WD</td>\n",
       "      <td>Abnorml</td>\n",
       "      <td>140000</td>\n",
       "    </tr>\n",
       "    <tr>\n",
       "      <th>4</th>\n",
       "      <td>5</td>\n",
       "      <td>60</td>\n",
       "      <td>RL</td>\n",
       "      <td>84.000000</td>\n",
       "      <td>14260</td>\n",
       "      <td>Pave</td>\n",
       "      <td>NaN</td>\n",
       "      <td>IR1</td>\n",
       "      <td>Lvl</td>\n",
       "      <td>AllPub</td>\n",
       "      <td>...</td>\n",
       "      <td>0</td>\n",
       "      <td>NaN</td>\n",
       "      <td>NaN</td>\n",
       "      <td>NaN</td>\n",
       "      <td>0</td>\n",
       "      <td>12</td>\n",
       "      <td>2008</td>\n",
       "      <td>WD</td>\n",
       "      <td>Normal</td>\n",
       "      <td>250000</td>\n",
       "    </tr>\n",
       "  </tbody>\n",
       "</table>\n",
       "<p>5 rows × 81 columns</p>\n",
       "</div>"
      ],
      "text/plain": [
       "   Id  MSSubClass MSZoning  LotFrontage  LotArea Street Alley LotShape  \\\n",
       "0   1          60       RL    65.000000     8450   Pave   NaN      Reg   \n",
       "1   2          20       RL    80.000000     9600   Pave   NaN      Reg   \n",
       "2   3          60       RL    68.000000    11250   Pave   NaN      IR1   \n",
       "3   4          70       RL    60.000000     9550   Pave   NaN      IR1   \n",
       "4   5          60       RL    84.000000    14260   Pave   NaN      IR1   \n",
       "\n",
       "  LandContour Utilities  ... PoolArea PoolQC Fence MiscFeature MiscVal MoSold  \\\n",
       "0         Lvl    AllPub  ...        0    NaN   NaN         NaN       0      2   \n",
       "1         Lvl    AllPub  ...        0    NaN   NaN         NaN       0      5   \n",
       "2         Lvl    AllPub  ...        0    NaN   NaN         NaN       0      9   \n",
       "3         Lvl    AllPub  ...        0    NaN   NaN         NaN       0      2   \n",
       "4         Lvl    AllPub  ...        0    NaN   NaN         NaN       0     12   \n",
       "\n",
       "  YrSold  SaleType  SaleCondition  SalePrice  \n",
       "0   2008        WD         Normal     208500  \n",
       "1   2007        WD         Normal     181500  \n",
       "2   2008        WD         Normal     223500  \n",
       "3   2006        WD        Abnorml     140000  \n",
       "4   2008        WD         Normal     250000  \n",
       "\n",
       "[5 rows x 81 columns]"
      ]
     },
     "execution_count": 2,
     "metadata": {},
     "output_type": "execute_result"
    }
   ],
   "source": [
    "# load dataset\n",
    "train = pd.read_csv(\"/data/train.csv\")\n",
    "train_shape=train.shape[0]\n",
    "print(train.shape)\n",
    "train.head()"
   ]
  },
  {
   "cell_type": "code",
   "execution_count": 3,
   "metadata": {},
   "outputs": [
    {
     "data": {
      "text/html": [
       "<div>\n",
       "<style scoped>\n",
       "    .dataframe tbody tr th:only-of-type {\n",
       "        vertical-align: middle;\n",
       "    }\n",
       "\n",
       "    .dataframe tbody tr th {\n",
       "        vertical-align: top;\n",
       "    }\n",
       "\n",
       "    .dataframe thead th {\n",
       "        text-align: right;\n",
       "    }\n",
       "</style>\n",
       "<table border=\"1\" class=\"dataframe\">\n",
       "  <thead>\n",
       "    <tr style=\"text-align: right;\">\n",
       "      <th></th>\n",
       "      <th>Id</th>\n",
       "      <th>MSSubClass</th>\n",
       "      <th>MSZoning</th>\n",
       "      <th>LotFrontage</th>\n",
       "      <th>LotArea</th>\n",
       "      <th>Street</th>\n",
       "      <th>Alley</th>\n",
       "      <th>LotShape</th>\n",
       "      <th>LandContour</th>\n",
       "      <th>Utilities</th>\n",
       "      <th>...</th>\n",
       "      <th>ScreenPorch</th>\n",
       "      <th>PoolArea</th>\n",
       "      <th>PoolQC</th>\n",
       "      <th>Fence</th>\n",
       "      <th>MiscFeature</th>\n",
       "      <th>MiscVal</th>\n",
       "      <th>MoSold</th>\n",
       "      <th>YrSold</th>\n",
       "      <th>SaleType</th>\n",
       "      <th>SaleCondition</th>\n",
       "    </tr>\n",
       "  </thead>\n",
       "  <tbody>\n",
       "    <tr>\n",
       "      <th>0</th>\n",
       "      <td>1461</td>\n",
       "      <td>20</td>\n",
       "      <td>RH</td>\n",
       "      <td>80.000000</td>\n",
       "      <td>11622</td>\n",
       "      <td>Pave</td>\n",
       "      <td>NaN</td>\n",
       "      <td>Reg</td>\n",
       "      <td>Lvl</td>\n",
       "      <td>AllPub</td>\n",
       "      <td>...</td>\n",
       "      <td>120</td>\n",
       "      <td>0</td>\n",
       "      <td>NaN</td>\n",
       "      <td>MnPrv</td>\n",
       "      <td>NaN</td>\n",
       "      <td>0</td>\n",
       "      <td>6</td>\n",
       "      <td>2010</td>\n",
       "      <td>WD</td>\n",
       "      <td>Normal</td>\n",
       "    </tr>\n",
       "    <tr>\n",
       "      <th>1</th>\n",
       "      <td>1462</td>\n",
       "      <td>20</td>\n",
       "      <td>RL</td>\n",
       "      <td>81.000000</td>\n",
       "      <td>14267</td>\n",
       "      <td>Pave</td>\n",
       "      <td>NaN</td>\n",
       "      <td>IR1</td>\n",
       "      <td>Lvl</td>\n",
       "      <td>AllPub</td>\n",
       "      <td>...</td>\n",
       "      <td>0</td>\n",
       "      <td>0</td>\n",
       "      <td>NaN</td>\n",
       "      <td>NaN</td>\n",
       "      <td>Gar2</td>\n",
       "      <td>12500</td>\n",
       "      <td>6</td>\n",
       "      <td>2010</td>\n",
       "      <td>WD</td>\n",
       "      <td>Normal</td>\n",
       "    </tr>\n",
       "    <tr>\n",
       "      <th>2</th>\n",
       "      <td>1463</td>\n",
       "      <td>60</td>\n",
       "      <td>RL</td>\n",
       "      <td>74.000000</td>\n",
       "      <td>13830</td>\n",
       "      <td>Pave</td>\n",
       "      <td>NaN</td>\n",
       "      <td>IR1</td>\n",
       "      <td>Lvl</td>\n",
       "      <td>AllPub</td>\n",
       "      <td>...</td>\n",
       "      <td>0</td>\n",
       "      <td>0</td>\n",
       "      <td>NaN</td>\n",
       "      <td>MnPrv</td>\n",
       "      <td>NaN</td>\n",
       "      <td>0</td>\n",
       "      <td>3</td>\n",
       "      <td>2010</td>\n",
       "      <td>WD</td>\n",
       "      <td>Normal</td>\n",
       "    </tr>\n",
       "    <tr>\n",
       "      <th>3</th>\n",
       "      <td>1464</td>\n",
       "      <td>60</td>\n",
       "      <td>RL</td>\n",
       "      <td>78.000000</td>\n",
       "      <td>9978</td>\n",
       "      <td>Pave</td>\n",
       "      <td>NaN</td>\n",
       "      <td>IR1</td>\n",
       "      <td>Lvl</td>\n",
       "      <td>AllPub</td>\n",
       "      <td>...</td>\n",
       "      <td>0</td>\n",
       "      <td>0</td>\n",
       "      <td>NaN</td>\n",
       "      <td>NaN</td>\n",
       "      <td>NaN</td>\n",
       "      <td>0</td>\n",
       "      <td>6</td>\n",
       "      <td>2010</td>\n",
       "      <td>WD</td>\n",
       "      <td>Normal</td>\n",
       "    </tr>\n",
       "    <tr>\n",
       "      <th>4</th>\n",
       "      <td>1465</td>\n",
       "      <td>120</td>\n",
       "      <td>RL</td>\n",
       "      <td>43.000000</td>\n",
       "      <td>5005</td>\n",
       "      <td>Pave</td>\n",
       "      <td>NaN</td>\n",
       "      <td>IR1</td>\n",
       "      <td>HLS</td>\n",
       "      <td>AllPub</td>\n",
       "      <td>...</td>\n",
       "      <td>144</td>\n",
       "      <td>0</td>\n",
       "      <td>NaN</td>\n",
       "      <td>NaN</td>\n",
       "      <td>NaN</td>\n",
       "      <td>0</td>\n",
       "      <td>1</td>\n",
       "      <td>2010</td>\n",
       "      <td>WD</td>\n",
       "      <td>Normal</td>\n",
       "    </tr>\n",
       "  </tbody>\n",
       "</table>\n",
       "<p>5 rows × 80 columns</p>\n",
       "</div>"
      ],
      "text/plain": [
       "     Id  MSSubClass MSZoning  LotFrontage  LotArea Street Alley LotShape  \\\n",
       "0  1461          20       RH    80.000000    11622   Pave   NaN      Reg   \n",
       "1  1462          20       RL    81.000000    14267   Pave   NaN      IR1   \n",
       "2  1463          60       RL    74.000000    13830   Pave   NaN      IR1   \n",
       "3  1464          60       RL    78.000000     9978   Pave   NaN      IR1   \n",
       "4  1465         120       RL    43.000000     5005   Pave   NaN      IR1   \n",
       "\n",
       "  LandContour Utilities  ... ScreenPorch PoolArea PoolQC  Fence MiscFeature  \\\n",
       "0         Lvl    AllPub  ...         120        0    NaN  MnPrv         NaN   \n",
       "1         Lvl    AllPub  ...           0        0    NaN    NaN        Gar2   \n",
       "2         Lvl    AllPub  ...           0        0    NaN  MnPrv         NaN   \n",
       "3         Lvl    AllPub  ...           0        0    NaN    NaN         NaN   \n",
       "4         HLS    AllPub  ...         144        0    NaN    NaN         NaN   \n",
       "\n",
       "  MiscVal MoSold  YrSold  SaleType  SaleCondition  \n",
       "0       0      6    2010        WD         Normal  \n",
       "1   12500      6    2010        WD         Normal  \n",
       "2       0      3    2010        WD         Normal  \n",
       "3       0      6    2010        WD         Normal  \n",
       "4       0      1    2010        WD         Normal  \n",
       "\n",
       "[5 rows x 80 columns]"
      ]
     },
     "execution_count": 3,
     "metadata": {},
     "output_type": "execute_result"
    }
   ],
   "source": [
    "# Load the dataset for submission (the one on which our model will be evaluated by Kaggle)\n",
    "# it contains exactly the same variables, but not the target\n",
    "\n",
    "test = pd.read_csv(\"/data/test.csv\")\n",
    "test.head()"
   ]
  },
  {
   "cell_type": "markdown",
   "metadata": {},
   "source": [
    "# DATA CLEANING AND PREPROCESSING"
   ]
  },
  {
   "cell_type": "markdown",
   "metadata": {},
   "source": [
    "### Join Data"
   ]
  },
  {
   "cell_type": "code",
   "execution_count": 4,
   "metadata": {},
   "outputs": [],
   "source": [
    "df_columns = test.columns\n",
    "\n",
    "y = train.SalePrice\n",
    "train = train[df_columns]\n",
    "\n",
    "df = pd.concat([train, test])"
   ]
  },
  {
   "cell_type": "markdown",
   "metadata": {},
   "source": [
    "### Separate data into Numerical and Categorical Variables"
   ]
  },
  {
   "cell_type": "code",
   "execution_count": 5,
   "metadata": {},
   "outputs": [],
   "source": [
    "# divide the data into numerical (\"num\") and categorical (\"cat\") features\n",
    "num = list( test.loc[:,test.dtypes != 'object'].drop('Id',axis=1).columns.values )\n",
    "cat = list( test.loc[:,test.dtypes == 'object'].columns.values )"
   ]
  },
  {
   "cell_type": "code",
   "execution_count": 6,
   "metadata": {},
   "outputs": [
    {
     "name": "stdout",
     "output_type": "stream",
     "text": [
      "LotFrontage     486\n",
      "GarageYrBlt     159\n",
      "MasVnrArea       23\n",
      "BsmtHalfBath      2\n",
      "BsmtFullBath      2\n",
      "GarageArea        1\n",
      "GarageCars        1\n",
      "TotalBsmtSF       1\n",
      "BsmtUnfSF         1\n",
      "BsmtFinSF2        1\n",
      "BsmtFinSF1        1\n",
      "dtype: int64\n",
      "********************************************************************************\n",
      "PoolQC          2909\n",
      "MiscFeature     2814\n",
      "Alley           2721\n",
      "Fence           2348\n",
      "FireplaceQu     1420\n",
      "GarageCond       159\n",
      "GarageQual       159\n",
      "GarageFinish     159\n",
      "GarageType       157\n",
      "BsmtExposure      82\n",
      "BsmtCond          82\n",
      "BsmtQual          81\n",
      "BsmtFinType2      80\n",
      "BsmtFinType1      79\n",
      "MasVnrType        24\n",
      "MSZoning           4\n",
      "Functional         2\n",
      "Utilities          2\n",
      "Exterior1st        1\n",
      "SaleType           1\n",
      "Exterior2nd        1\n",
      "KitchenQual        1\n",
      "Electrical         1\n",
      "dtype: int64\n"
     ]
    }
   ],
   "source": [
    "# Find out how many missing values there are for the numerical and categorical features\n",
    "# Data that needs good replacement of NaNs\n",
    "nan_data = df[num].isnull().sum()\n",
    "nan_data = nan_data[nan_data > 0]\n",
    "nan_data = nan_data.sort_values(ascending=False)\n",
    "print(nan_data)\n",
    "print('**'*40)\n",
    "nan_data = df[cat].isnull().sum()\n",
    "nan_data = nan_data[nan_data > 0]\n",
    "nan_data = nan_data.sort_values(ascending=False)\n",
    "print(nan_data)\n"
   ]
  },
  {
   "cell_type": "code",
   "execution_count": 7,
   "metadata": {},
   "outputs": [],
   "source": [
    "# Filling missing values for numerical features. Most of the NAN should mean that \n",
    "# the corresponding facillity/structure doesn't exist, so I use zero for most cases\n",
    "\n",
    "# Use zero\n",
    "df.MasVnrArea.fillna(0, inplace=True)\n",
    "df.BsmtHalfBath.fillna(0, inplace=True)\n",
    "df.BsmtFullBath.fillna(0, inplace=True)\n",
    "df.GarageArea.fillna(0, inplace=True)\n",
    "df.GarageCars.fillna(0, inplace=True)\n",
    "df.TotalBsmtSF.fillna(0, inplace=True)\n",
    "df.BsmtUnfSF.fillna(0, inplace=True)\n",
    "df.BsmtFinSF2.fillna(0, inplace=True)\n",
    "df.BsmtFinSF1.fillna(0, inplace=True)\n",
    "\n",
    "\n",
    "# NAN should mean no garage. I temporarily use yr = 0 here. Will come back to this later. \n",
    "df.GarageYrBlt.fillna(0, inplace=True)"
   ]
  },
  {
   "cell_type": "code",
   "execution_count": 8,
   "metadata": {},
   "outputs": [
    {
     "data": {
      "text/plain": [
       "PoolQC          2909\n",
       "MiscFeature     2814\n",
       "Alley           2721\n",
       "Fence           2348\n",
       "FireplaceQu     1420\n",
       "LotFrontage      486\n",
       "GarageCond       159\n",
       "GarageQual       159\n",
       "GarageFinish     159\n",
       "GarageType       157\n",
       "BsmtCond          82\n",
       "BsmtExposure      82\n",
       "BsmtQual          81\n",
       "BsmtFinType2      80\n",
       "BsmtFinType1      79\n",
       "MasVnrType        24\n",
       "MSZoning           4\n",
       "Utilities          2\n",
       "Functional         2\n",
       "SaleType           1\n",
       "Electrical         1\n",
       "KitchenQual        1\n",
       "Exterior2nd        1\n",
       "Exterior1st        1\n",
       "dtype: int64"
      ]
     },
     "execution_count": 8,
     "metadata": {},
     "output_type": "execute_result"
    }
   ],
   "source": [
    "# leaving these as None is the best value for it - not missing data - just not applicable\n",
    "nan_data = df.isnull().sum().sort_values(ascending=False)\n",
    "nan_data[nan_data > 0]"
   ]
  },
  {
   "cell_type": "code",
   "execution_count": 9,
   "metadata": {},
   "outputs": [],
   "source": [
    "# Fill Nulls with 'NA'\n",
    "df.PoolQC.fillna('NA', inplace=True)\n",
    "df.MiscFeature.fillna('NA', inplace=True)\n",
    "df.Alley.fillna('NA', inplace=True)\n",
    "df.Fence.fillna('NA', inplace=True)\n",
    "df.FireplaceQu.fillna('NA', inplace=True)\n",
    "df.LotFrontage.fillna(0., inplace=True)\n",
    "df.GarageCond.fillna('NA', inplace=True)\n",
    "df.GarageType.fillna('NA', inplace=True)\n",
    "df.GarageFinish.fillna('NA', inplace=True)\n",
    "df.GarageQual.fillna('NA', inplace=True)\n",
    "df.BsmtExposure.fillna('NA', inplace=True)\n",
    "df.BsmtFinType2.fillna('NA', inplace=True)\n",
    "df.BsmtFinType1.fillna('NA', inplace=True)\n",
    "df.BsmtCond.fillna('NA', inplace=True)\n",
    "df.BsmtQual.fillna('NA', inplace=True)\n",
    "df.MasVnrType.fillna('None', inplace=True)\n",
    "\n",
    "# Fill Nulls with 0\n",
    "df.MasVnrArea.fillna(0, inplace=True)\n",
    "df.GarageArea.fillna(0, inplace=True)\n",
    "df.BsmtUnfSF.fillna(0, inplace=True)\n",
    "df.BsmtFinSF2.fillna(0, inplace=True)\n",
    "df.BsmtFullBath.fillna(0, inplace=True)\n",
    "df.BsmtHalfBath.fillna(0, inplace=True)\n",
    "df.BsmtFinSF1.fillna(0, inplace=True)\n",
    "df.KitchenQual.fillna('TA', inplace=True)\n",
    "df.Functional.fillna(0, inplace=True)\n",
    "df.Utilities.fillna(0, inplace=True)\n",
    "# df.MSZoning.fillna(0, inplace=True)\n",
    "df.Exterior2nd.fillna(df.Exterior2nd.mode().values[0], inplace=True)\n",
    "df.Electrical.fillna(df.Electrical.mode().values[0], inplace=True)\n",
    "df.Exterior1st.fillna(df.Exterior1st.mode().values[0], inplace=True)\n",
    "df.GarageCars.fillna(0, inplace=True)\n",
    "df.TotalBsmtSF.fillna(0, inplace=True)\n",
    "df.SaleType.fillna(df.SaleType.mode().values[0], inplace=True)\n",
    "df.GarageType.fillna(\"NoGarage\", inplace=True)"
   ]
  },
  {
   "cell_type": "code",
   "execution_count": 10,
   "metadata": {},
   "outputs": [
    {
     "data": {
      "text/plain": [
       "MSZoning    4\n",
       "dtype: int64"
      ]
     },
     "execution_count": 10,
     "metadata": {},
     "output_type": "execute_result"
    }
   ],
   "source": [
    "# We should have only MSZoning Left with 4 nulls\n",
    "nan_data = df.isnull().sum().sort_values(ascending=False)\n",
    "nan_data[nan_data > 0]\n"
   ]
  },
  {
   "cell_type": "code",
   "execution_count": 11,
   "metadata": {},
   "outputs": [],
   "source": [
    "# Handling missing values in MSZoning\n",
    "for i in df.Neighborhood.unique():\n",
    "    if (df.MSZoning[df.Neighborhood == i].isnull().sum()) > 0:\n",
    "        df.loc[df.Neighborhood == i,'MSZoning'] = df.loc[df.Neighborhood == i,'MSZoning'].fillna(df.loc[df.Neighborhood == i,'MSZoning'].mode()[0])"
   ]
  },
  {
   "cell_type": "code",
   "execution_count": 12,
   "metadata": {},
   "outputs": [
    {
     "data": {
      "text/plain": [
       "Series([], dtype: int64)"
      ]
     },
     "execution_count": 12,
     "metadata": {},
     "output_type": "execute_result"
    }
   ],
   "source": [
    "# Should return an empty series\n",
    "nan_data = df.isnull().sum().sort_values(ascending=False)\n",
    "nan_data[nan_data > 0]"
   ]
  },
  {
   "cell_type": "code",
   "execution_count": 13,
   "metadata": {},
   "outputs": [],
   "source": [
    "# Mapping Categorical variable with corresponding ranks -  Text to Num\n",
    "\n",
    "df['ExterQual'] = df.ExterQual.replace(dict(Ex=5, Gd=4, TA=3, Fa=2, Po=1))\n",
    "df['ExterCond'] = df.ExterCond.replace(dict(Ex=5, Gd=4, TA=3, Fa=2, Po=1))\n",
    "df['BsmtQual'] = df.BsmtQual.replace(dict(Ex=5, Gd=4, TA=3, Fa=2, Po=1, NA=0))\n",
    "df['BsmtCond'] = df.BsmtCond.replace(dict(Ex=5, Gd=4, TA=3, Fa=2, Po=1, NA=0))\n",
    "df['BsmtExposure'] = df.BsmtExposure.replace(dict(Gd=4, Av=3, Mn=2, No=1, NA=0))\n",
    "df['BsmtFinType1'] = df.BsmtFinType1.replace(dict(GLQ=6, ALQ=5, BLQ=4, Rec=3, LwQ=2, Unf=1, NA=0))\n",
    "df['BsmtFinType2'] = df.BsmtFinType2.replace(dict(GLQ=6, ALQ=5, BLQ=4, Rec=3, LwQ=2, Unf=1, NA=0))\n",
    "df['HeatingQC'] = df.HeatingQC.replace(dict(Ex=5, Gd=4, TA=3, Fa=2, Po=1))\n",
    "df['KitchenQual'] = df.KitchenQual.replace(dict(Ex=5, Gd=4, TA=3, Fa=2, Po=1))\n",
    "df['Functional'] = df.Functional.replace(dict(Typ=8, Min1=7, Min2=6, Mod=5, Maj1=4, Maj2=3, Sev=2, Sal=1))\n",
    "df['FireplaceQu'] = df.FireplaceQu.replace(dict(Ex=5, Gd=4, TA=3, Fa=2, Po=1, NA=0))\n",
    "df['GarageQual'] = df.GarageQual.replace(dict(Ex=5, Gd=4, TA=3, Fa=2, Po=1, NA=0))\n",
    "df['GarageCond'] = df.GarageCond.replace(dict(Ex=5, Gd=4, TA=3, Fa=2, Po=1, NA=0))\n",
    "df['PoolQC'] = df.PoolQC.replace(dict(Ex=5, Gd=4, TA=3, Fa=2, NA=1))\n",
    "df['Fence'] = df.Fence.replace(dict(GdPrv=5, MnPrv=4, GdWo=3, MnWw=2, NA=1))\n",
    "df['Alley'] = df.Alley.replace(dict(Grvl=3, Pave=2, NA=1))\n",
    "df['LotShape'] = df.LotShape.replace(dict(Reg=4, IR1=3, IR2=2, IR3=1))\n",
    "df['Utilities'] = df.Utilities.replace(dict(AllPub=4, NoSewr=3, NoSeWa=2, ELO=1))\n",
    "df['LotConfig'] = df.LotConfig.replace(dict(Inside=5, Corner=4, CulDSac=3, FR2=2, FR3=1))\n",
    "df['LandContour'] = df.LandContour.replace(dict(Lvl=4, Bnk=3, HLS=2, Low=1))\n",
    "df['LandSlope'] = df.LandSlope.replace(dict(Gtl=3, Mod=2, Sev=1))\n",
    "df['MSZoning']=df.MSZoning.replace(({'RL':1, 'RM':2, 'C (all)':3, 'FV':4, 'RH':5}))\n",
    "df['Street']=df.Street.replace(dict(Grvl=2, Pave=1))\n",
    "# df['Neighborhood'] = df.Neighborhood.replace(dict(NAmes=1,CollgCr=2,OldTown=3,Edwards=4,Somerst=5,Gilbert=6,\n",
    "#                                                   NridgHt=7,Sawyer=8,NWAmes=9,SawyerW=10,BrkSide=11,Crawfor=12,\n",
    "#                                                   Mitchel=13,NoRidge=14,Timber=15,IDOTRR=16,ClearCr=17,StoneBr=18,\n",
    "#                                                   SWISU=19,MeadowV=20,Blmngtn=21,BrDale=22,Veenker=23,NPkVill=24,Blueste=25))"
   ]
  },
  {
   "cell_type": "markdown",
   "metadata": {},
   "source": [
    "# FEATURE ENGINEERING"
   ]
  },
  {
   "cell_type": "markdown",
   "metadata": {},
   "source": [
    "### Adding New Features"
   ]
  },
  {
   "cell_type": "code",
   "execution_count": 14,
   "metadata": {},
   "outputs": [],
   "source": [
    "#Add New Features\n",
    "df.loc[(df.PoolArea>0), ['MiscFeature']] = 'Pool'\n",
    "df.loc[(df.PoolArea>0), ['MiscVal']] = df.loc[(df.PoolArea>0),['MiscVal', 'PoolArea']].apply(lambda x: (x.MiscVal + x.PoolArea), axis=1)\n",
    "\n",
    "df['TotalExtraPoints'] = df.HeatingQC + df.PoolQC + df.FireplaceQu + df.KitchenQual\n",
    "df['TotalPoints'] = (df.ExterQual + df.FireplaceQu + df.GarageQual + df.KitchenQual +\n",
    "                      df.BsmtQual + df.BsmtExposure + df.BsmtFinType1 + df.PoolQC + \n",
    "                      df.ExterCond + df.BsmtCond + df.GarageCond + df.OverallCond +\n",
    "                      df.BsmtFinType2 + df.HeatingQC ) + df.OverallQual**2\n",
    "\n",
    "\n",
    "df['GarageArea_x_Car'] = df.GarageArea * df.GarageCars\n",
    "\n",
    "df['TotalBsmtSF_x_Bsm'] = df.TotalBsmtSF * df['1stFlrSF']\n",
    "\n",
    "# We don´t have a feature with all construct area, maybe it is an interesting feature to create.\n",
    "df['ConstructArea'] = (df.TotalBsmtSF + df.WoodDeckSF + df.GrLivArea +df['3SsnPorch']+\n",
    "                       df.OpenPorchSF + df.ScreenPorch + df.EnclosedPorch +\n",
    "                       df.MasVnrArea + df.GarageArea + df.PoolArea )\n",
    "\n",
    "#df['TotalArea'] = df.ConstructArea + df.LotArea\n",
    "\n",
    "df['Garage_Newest'] = df.YearBuilt > df.GarageYrBlt\n",
    "df.Garage_Newest = df.Garage_Newest.apply(lambda x: 1 if x else 0)\n",
    "\n",
    "df['TotalPorchSF'] = df.OpenPorchSF + df.EnclosedPorch + df.ScreenPorch + df.WoodDeckSF+df['3SsnPorch']\n",
    "df.EnclosedPorch = df.EnclosedPorch.apply(lambda x: 1 if x else 0)\n",
    "\n",
    "df['LotAreaMultSlope'] = df.LotArea * df.LandSlope\n",
    "\n",
    "\n",
    "df['BsmtSFPoints'] = (df.BsmtQual**2 + df.BsmtCond + df.BsmtExposure +\n",
    "                      df.BsmtFinType1 + df.BsmtFinType2)\n",
    "\n",
    "\n",
    "df['BsmtSFMultPoints'] = df.TotalBsmtSF * (df.BsmtQual**2 + df.BsmtCond + df.BsmtExposure +\n",
    "                                           df.BsmtFinType1 + df.BsmtFinType2)\n",
    "\n",
    "df['TotBathrooms'] = df.FullBath + (df.HalfBath*0.5) + df.BsmtFullBath + (df.BsmtHalfBath*0.5)\n",
    "df.FullBath = df.FullBath.apply(lambda x: 1 if x else 0)\n",
    "df.HalfBath = df.HalfBath.apply(lambda x: 1 if x else 0)\n",
    "df.BsmtFullBath = df.BsmtFullBath.apply(lambda x: 1 if x else 0)\n",
    "df.BsmtHalfBath = df.BsmtHalfBath.apply(lambda x: 1 if x else 0)"
   ]
  },
  {
   "cell_type": "markdown",
   "metadata": {},
   "source": [
    "### Create new features from existing data"
   ]
  },
  {
   "cell_type": "code",
   "execution_count": 15,
   "metadata": {},
   "outputs": [
    {
     "name": "stderr",
     "output_type": "stream",
     "text": [
      "/opt/conda/lib/python3.7/site-packages/pandas/core/ops/array_ops.py:253: FutureWarning: elementwise comparison failed; returning scalar instead, but in the future will perform elementwise comparison\n",
      "  res_values = method(rvalues)\n"
     ]
    }
   ],
   "source": [
    "# Create new features from existing data\n",
    "df['TotalBath'] = df.FullBath + df.BsmtFullBath + 0.5 * (df.BsmtHalfBath + df.HalfBath)\n",
    "df['TotalSF'] = df.TotalBsmtSF + df.GrLivArea\n",
    "\n",
    "df[\"IsRegularLotShape\"] = (df.LotShape == \"Reg\") * 1\n",
    "df[\"IsLandLevel\"] = (df.LandContour == \"Lvl\") * 1\n",
    "df[\"IsLandSlopeGntl\"] = (df.LandSlope == \"Gtl\") * 1\n",
    "df[\"IsElectricalSBrkr\"] = (df.Electrical == \"SBrkr\") * 1\n",
    "df[\"IsGarageDetached\"] = (df.GarageType == \"Detchd\") * 1\n",
    "df[\"IsPavedDrive\"] = (df.PavedDrive == \"Y\") * 1\n",
    "df[\"HasShed\"] = (df.MiscFeature == \"Shed\") * 1\n",
    "\n",
    "# these features jumped my score from 0.11875 to 0.11833\n",
    "\n",
    "df.loc[df.Neighborhood == 'NridgHt', \"Neighborhood_Good\"] = 1\n",
    "df.loc[df.Neighborhood == 'Crawfor', \"Neighborhood_Good\"] = 1\n",
    "df.loc[df.Neighborhood == 'StoneBr', \"Neighborhood_Good\"] = 1\n",
    "df.loc[df.Neighborhood == 'Somerst', \"Neighborhood_Good\"] = 1\n",
    "df.loc[df.Neighborhood == 'NoRidge', \"Neighborhood_Good\"] = 1\n",
    "df[\"Neighborhood_Good\"].fillna(0, inplace=True)\n",
    "\n",
    "\n",
    "# jumped the score from 0.11833 to 0.11819\n",
    "df[\"SaleCondition_PriceDown\"] = df.SaleCondition.replace({'Abnorml': 1, 'Alloca': 1, 'AdjLand': 1, 'Family': 1, 'Normal': 0, 'Partial': 0})\n",
    "\n",
    "# House completed before sale or not\n",
    "df[\"BoughtOffPlan\"] = df.SaleCondition.replace({\"Abnorml\" : 0, \"Alloca\" : 0, \"AdjLand\" : 0, \"Family\" : 0, \"Normal\" : 0, \"Partial\" : 1})\n",
    "\n",
    "\n",
    "area_cols = ['LotFrontage', 'LotArea', 'MasVnrArea', 'BsmtFinSF1', 'BsmtFinSF2', 'BsmtUnfSF',\n",
    "             'TotalBsmtSF', '1stFlrSF', '2ndFlrSF', 'GrLivArea', 'GarageArea', 'WoodDeckSF',\n",
    "             'OpenPorchSF', 'EnclosedPorch', '3SsnPorch', 'ScreenPorch', 'LowQualFinSF', 'PoolArea' ]\n",
    "df[\"TotalArea\"] = df[area_cols].sum(axis=1)\n",
    "\n",
    "\n",
    "# If YearRemodAdd != YearBuilt, then a remodeling took place at some point.\n",
    "df[\"Remodeled\"] = (df[\"YearRemodAdd\"] != df[\"YearBuilt\"]) * 1\n",
    "\n",
    "# Did a remodeling happen in the year the house was sold?\n",
    "df[\"RecentRemodel\"] = (df[\"YearRemodAdd\"] == df[\"YrSold\"]) * 1\n",
    "\n",
    "df[\"Age\"] = 2020 - df[\"YearBuilt\"]\n",
    "df[\"TimeSinceSold\"] = 2020 - df[\"YrSold\"]\n"
   ]
  },
  {
   "cell_type": "markdown",
   "metadata": {},
   "source": [
    "### Simplify existing features - squash into smaller groups"
   ]
  },
  {
   "cell_type": "code",
   "execution_count": 16,
   "metadata": {},
   "outputs": [],
   "source": [
    "# Create new features\n",
    "# Simplify existing features - squash into smaller groups\n",
    "# existing features\n",
    "df['OverallQual_simple'] = df.OverallQual.replace({1:1, 2:1, 3:1,4:2, 5:2, 6:2, 7:3, 8:3, 9:3, 10:3})\n",
    "df['OverallCond_simple'] = df.OverallCond.replace({1:1, 2:1, 3:1,4:2, 5:2, 6:2,7:3, 8:3, 9:3, 10:3})\n",
    "# convert from categorical to ordinal with smaller groups\n",
    "df['ExterQual_simple'] = df.ExterQual.replace({5:3, 4:3, 3:2, 2:2, 1:1})\n",
    "df['ExterCond_simple'] = df.ExterCond.replace({5:3, 4:3, 3:2, 2:2, 1:1})\n",
    "df['BsmtQual_simple'] = df.BsmtQual.replace({5:3, 4:3, 3:2, 2:2, 1:1})\n",
    "df['BsmtCond_simple'] = df.BsmtCond.replace({5:3, 4:3, 3:2, 2:2, 1:1})\n",
    "df['BsmtFinType1_simple'] = df.BsmtFinType1.replace({6:3, 5:3, 4:2, 3:2, 2:1, 1:1})\n",
    "df['BsmtFinType2_simple'] = df.BsmtFinType2.replace({6:3, 5:3, 4:2, 3:2, 2:1, 1:1})\n",
    "df['HeatingQC_simple'] = df.HeatingQC.replace({5:3, 4:3, 3:2, 2:2, 1:1})\n",
    "df['KitchenQual_simple'] = df.KitchenQual.replace({5:3, 4:3, 3:2, 2:2, 1:1})\n",
    "df['Functional_simple'] = df.Functional.replace({8:4, 7:3, 7:3, 6:3, 5:2,4:2, 3:1, 2:1})\n",
    "df['GarageQual_simple'] = df.GarageQual.replace({5:3, 4:3, 3:2, 2:2, 1:1})\n",
    "df['GarageCond_simple'] = df.GarageCond.replace({5:3, 4:3, 3:2, 2:2, 1:1})\n",
    "df['PoolQC_simple'] = df.PoolQC.replace({5:3, 4:3, 3:2, 2:2, 1:1})\n",
    "df['FireplaceQu_simple'] = df.FireplaceQu.replace({5:3, 4:3, 3:2, 2:2, 1:1})"
   ]
  },
  {
   "cell_type": "code",
   "execution_count": 17,
   "metadata": {},
   "outputs": [],
   "source": [
    "df['YrBltAndRemod']=df['YearBuilt']+df['YearRemodAdd']\n",
    "df['TotalSF_SF']=df['TotalBsmtSF'] + df['1stFlrSF'] + df['2ndFlrSF']\n",
    "\n",
    "df['Total_sqr_footage'] = (df['BsmtFinSF1'] + df['BsmtFinSF2'] +df['1stFlrSF'] + df['2ndFlrSF'])\n",
    "\n",
    "#df['Total_Bathrooms'] = (df['FullBath'] + (0.5 * df['HalfBath']) +df['BsmtFullBath'] + (0.5 * df['BsmtHalfBath']))\n",
    "\n",
    "#df['Total_porch_sf'] = (df['OpenPorchSF'] + df['3SsnPorch'] +df['EnclosedPorch'] + df['ScreenPorch'] + df['WoodDeckSF'])\n",
    "df['haspool'] = df['PoolArea'].apply(lambda x: 1 if x > 0 else 0)\n",
    "df['has2ndfloor'] = df['2ndFlrSF'].apply(lambda x: 1 if x > 0 else 0)\n",
    "df['hasgarage'] = df['GarageArea'].apply(lambda x: 1 if x > 0 else 0)\n",
    "df['hasbsmt'] = df['TotalBsmtSF'].apply(lambda x: 1 if x > 0 else 0)\n",
    "df['hasfireplace'] = df['Fireplaces'].apply(lambda x: 1 if x > 0 else 0)\n"
   ]
  },
  {
   "cell_type": "markdown",
   "metadata": {},
   "source": [
    "### Converting categorical data with numerical features into categories "
   ]
  },
  {
   "cell_type": "code",
   "execution_count": 18,
   "metadata": {},
   "outputs": [],
   "source": [
    "# Converting categorical data with numerical features into categories \n",
    "# NOTE:- pd.get_dummies will one hot encode these columns now\n",
    "# MSSubClass, MoSold\n",
    "df['MSSubClass'] = df.MSSubClass.astype('category')\n",
    "df['MoSold'] = df.MoSold.astype('category')\n",
    "df['GarageYrBlt'] = df.GarageYrBlt.astype('category')\n",
    "df['Neighborhood'] = df.Neighborhood.astype('category')\n",
    "df['LotConfig'] = df.LotConfig.astype('category')\n",
    "df['Condition1'] = df.Condition1.astype('category')\n",
    "df['Condition2'] = df.Condition1.astype('category')\n",
    "df['BldgType'] = df.BldgType.astype('category')\n",
    "df['HouseStyle'] = df.HouseStyle.astype('category')\n",
    "df['RoofStyle'] = df.RoofStyle.astype('category')\n",
    "df['Exterior1st'] = df.Exterior1st.astype('category')\n",
    "df['MasVnrArea'] = df.MasVnrArea.astype('category')\n",
    "df['RoofMatl'] = df.RoofMatl.astype('category')\n",
    "df['MasVnrType'] = df.MasVnrType.astype('category')\n",
    "df['Foundation'] = df.Foundation.astype('category')\n",
    "df['SaleCondition'] = df.SaleCondition.astype('category')\n",
    "df['SaleType'] = df.SaleType.astype('category')\n",
    "df['Exterior2nd'] = df.Exterior2nd.astype('category')\n",
    "df['Heating'] = df.Heating.astype('category')\n",
    "df['Electrical'] = df.Electrical.astype('category')\n",
    "df['BedroomAbvGr'] = df.BedroomAbvGr.astype('category')\n",
    "df['KitchenAbvGr'] = df.KitchenAbvGr.astype('category')\n",
    "df['TotRmsAbvGrd'] = df.TotRmsAbvGrd.astype('category')\n",
    "df['Fireplaces'] = df.Fireplaces.astype('category')\n",
    "df['GarageType'] = df.GarageType.astype('category')\n",
    "df['GarageFinish'] = df.GarageFinish.astype('category')\n",
    "df['GarageCars'] = df.GarageCars.astype('category')\n",
    "df['PavedDrive'] = df.PavedDrive.astype('category')"
   ]
  },
  {
   "cell_type": "markdown",
   "metadata": {},
   "source": [
    "### Differentiate numerical features (minus the target) and categorical features"
   ]
  },
  {
   "cell_type": "code",
   "execution_count": 19,
   "metadata": {},
   "outputs": [
    {
     "name": "stdout",
     "output_type": "stream",
     "text": [
      "Numerical features : 101\n",
      "Categorical features : 30\n"
     ]
    }
   ],
   "source": [
    "# Differentiate numerical features (minus the target) and categorical features\n",
    "categorical_features = df.select_dtypes(include = [\"object\", \"category\"]).columns\n",
    "numerical_features = df.select_dtypes(exclude = [\"object\", \"category\"]).columns\n",
    "print(\"Numerical features : \" + str(len(numerical_features)))\n",
    "print(\"Categorical features : \" + str(len(categorical_features)))\n",
    "df_num = df[numerical_features]\n",
    "df_cat = df[categorical_features]"
   ]
  },
  {
   "cell_type": "code",
   "execution_count": 20,
   "metadata": {},
   "outputs": [
    {
     "data": {
      "text/plain": [
       "(0, 0)"
      ]
     },
     "execution_count": 20,
     "metadata": {},
     "output_type": "execute_result"
    }
   ],
   "source": [
    "## Check for missing values\n",
    "df_num.isnull().values.sum(), df_cat.isnull().values.sum()"
   ]
  },
  {
   "cell_type": "markdown",
   "metadata": {},
   "source": [
    "### Handling skewed features"
   ]
  },
  {
   "cell_type": "code",
   "execution_count": 21,
   "metadata": {},
   "outputs": [
    {
     "name": "stderr",
     "output_type": "stream",
     "text": [
      "/opt/conda/lib/python3.7/site-packages/pandas/core/frame.py:2963: SettingWithCopyWarning: \n",
      "A value is trying to be set on a copy of a slice from a DataFrame.\n",
      "Try using .loc[row_indexer,col_indexer] = value instead\n",
      "\n",
      "See the caveats in the documentation: https://pandas.pydata.org/pandas-docs/stable/user_guide/indexing.html#returning-a-view-versus-a-copy\n",
      "  self[k1] = value[k2]\n"
     ]
    }
   ],
   "source": [
    "skewness = df_num.apply(skew)\n",
    "skewness = skewness[abs(skewness) > 0.5]\n",
    "skewed_features = skewness.index\n",
    "df_num[skewed_features] = df_num[skewed_features].applymap(np.log1p)"
   ]
  },
  {
   "cell_type": "code",
   "execution_count": 22,
   "metadata": {},
   "outputs": [
    {
     "name": "stdout",
     "output_type": "stream",
     "text": [
      "Id: 0.0\n",
      "MSZoning: 2.67\n",
      "LotFrontage: 0.02\n",
      "LotArea: 12.82\n",
      "Street: 15.5\n",
      "Alley: 3.9\n",
      "LotShape: -1.26\n",
      "LandContour: -3.4\n",
      "Utilities: -33.97\n",
      "LandSlope: -4.98\n",
      "OverallQual: 0.2\n",
      "OverallCond: 0.57\n",
      "YearBuilt: -0.6\n",
      "YearRemodAdd: -0.45\n",
      "ExterQual: 0.79\n",
      "ExterCond: 1.32\n",
      "BsmtQual: -1.27\n",
      "BsmtCond: -3.6\n",
      "BsmtExposure: 1.12\n",
      "BsmtFinType1: -0.15\n",
      "BsmtFinSF1: 1.43\n",
      "BsmtFinType2: 3.15\n",
      "BsmtFinSF2: 4.15\n",
      "BsmtUnfSF: 0.92\n",
      "TotalBsmtSF: 1.16\n",
      "HeatingQC: -0.55\n",
      "1stFlrSF: 1.47\n",
      "2ndFlrSF: 0.86\n",
      "LowQualFinSF: 12.09\n",
      "GrLivArea: 1.27\n",
      "BsmtFullBath: 0.34\n",
      "BsmtHalfBath: 3.71\n",
      "FullBath: -15.5\n",
      "HalfBath: 0.53\n",
      "KitchenQual: 0.44\n",
      "Functional: -5.35\n",
      "FireplaceQu: 0.17\n",
      "GarageArea: 0.24\n",
      "GarageQual: -3.26\n",
      "GarageCond: -3.38\n",
      "WoodDeckSF: 1.84\n",
      "OpenPorchSF: 2.54\n",
      "EnclosedPorch: 1.88\n",
      "3SsnPorch: 11.38\n",
      "ScreenPorch: 3.95\n",
      "PoolArea: 16.9\n",
      "PoolQC: 19.12\n",
      "Fence: 1.75\n",
      "MiscVal: 21.77\n",
      "YrSold: 0.13\n",
      "TotalExtraPoints: 0.19\n",
      "TotalPoints: 0.6\n",
      "GarageArea_x_Car: 1.42\n",
      "TotalBsmtSF_x_Bsm: 7.96\n",
      "ConstructArea: 1.45\n",
      "Garage_Newest: 3.68\n",
      "TotalPorchSF: 1.38\n",
      "LotAreaMultSlope: 3.68\n",
      "BsmtSFPoints: -0.15\n",
      "BsmtSFMultPoints: 2.36\n",
      "TotBathrooms: 0.49\n",
      "TotalBath: 0.23\n",
      "TotalSF: 1.51\n",
      "IsRegularLotShape: 0.0\n",
      "IsLandLevel: 0.0\n",
      "IsLandSlopeGntl: 0.0\n",
      "IsElectricalSBrkr: -2.99\n",
      "IsGarageDetached: 1.05\n",
      "IsPavedDrive: -2.76\n",
      "HasShed: 5.27\n",
      "Neighborhood_Good: 1.53\n",
      "SaleCondition_PriceDown: 2.8\n",
      "BoughtOffPlan: 3.0\n",
      "TotalArea: 10.3\n",
      "Remodeled: 0.14\n",
      "RecentRemodel: 3.06\n",
      "Age: 0.6\n",
      "TimeSinceSold: -0.13\n",
      "OverallQual_simple: 0.2\n",
      "OverallCond_simple: 0.84\n",
      "ExterQual_simple: 0.53\n",
      "ExterCond_simple: 2.46\n",
      "BsmtQual_simple: -1.37\n",
      "BsmtCond_simple: -2.89\n",
      "BsmtFinType1_simple: -0.27\n",
      "BsmtFinType2_simple: 2.45\n",
      "HeatingQC_simple: -0.77\n",
      "KitchenQual_simple: 0.14\n",
      "Functional_simple: -4.78\n",
      "GarageQual_simple: -3.53\n",
      "GarageCond_simple: -3.58\n",
      "PoolQC_simple: 17.9\n",
      "FireplaceQu_simple: 0.19\n",
      "YrBltAndRemod: -0.3\n",
      "TotalSF_SF: 1.51\n",
      "Total_sqr_footage: 1.83\n",
      "haspool: 14.88\n",
      "has2ndfloor: 0.29\n",
      "hasgarage: -3.94\n",
      "hasbsmt: -5.83\n",
      "hasfireplace: -0.05\n"
     ]
    }
   ],
   "source": [
    "# # print the skewness of each numerical feature\n",
    "for i in df_num.columns.tolist():\n",
    "    print(i+': {}'.format(round(skew(df[i]),2)))"
   ]
  },
  {
   "cell_type": "markdown",
   "metadata": {},
   "source": [
    "### Encoding Categorical Variables"
   ]
  },
  {
   "cell_type": "code",
   "execution_count": 23,
   "metadata": {},
   "outputs": [],
   "source": [
    "# One hot encoding the categorical variables\n",
    "\n",
    "df_cat = pd.get_dummies(df_cat)"
   ]
  },
  {
   "cell_type": "markdown",
   "metadata": {},
   "source": [
    "### Separating Train and Test Data"
   ]
  },
  {
   "cell_type": "code",
   "execution_count": 24,
   "metadata": {},
   "outputs": [
    {
     "name": "stdout",
     "output_type": "stream",
     "text": [
      "(1460, 877) (1459, 877)\n"
     ]
    }
   ],
   "source": [
    "df = pd.concat([df_num, df_cat], axis=1)\n",
    "# scaler = StandardScaler()\n",
    "# df[numerical_features] = scaler.fit_transform(df[numerical_features])\n",
    "\n",
    "X_train = df[:train_shape]\n",
    "X_test = df[train_shape:]\n",
    "print(X_train.shape, X_test.shape)"
   ]
  },
  {
   "cell_type": "markdown",
   "metadata": {},
   "source": [
    "### Apply Log Transform"
   ]
  },
  {
   "cell_type": "code",
   "execution_count": 25,
   "metadata": {},
   "outputs": [],
   "source": [
    "# log transform the sale price\n",
    "\n",
    "\n",
    "## After prdictions are made - we need to convert them back to exponential form\n",
    "y = np.log1p(y)\n",
    "# y.rename(columns={ y.columns[0]: \"y\" }, inplace = True)"
   ]
  },
  {
   "cell_type": "markdown",
   "metadata": {},
   "source": [
    "# MODELING"
   ]
  },
  {
   "cell_type": "markdown",
   "metadata": {},
   "source": [
    "### Defining some functions to measure performance"
   ]
  },
  {
   "cell_type": "code",
   "execution_count": 26,
   "metadata": {},
   "outputs": [],
   "source": [
    "from sklearn.model_selection import KFold\n",
    "kfolds = KFold(n_splits=10, shuffle=True, random_state=42)\n",
    "\n",
    "def rmsle(y, y_pred):\n",
    "    return np.sqrt(mean_squared_error(y, y_pred))\n",
    "\n",
    "def cv_rmse(model, X=X_train):\n",
    "    rmse = np.sqrt(-cross_val_score(model, X, y, scoring=\"neg_mean_squared_error\", cv=kfolds))\n",
    "    return (rmse)"
   ]
  },
  {
   "cell_type": "markdown",
   "metadata": {},
   "source": [
    "### Create a list of suitable model parameters"
   ]
  },
  {
   "cell_type": "code",
   "execution_count": 27,
   "metadata": {},
   "outputs": [],
   "source": [
    "alphas_alt = [14.5, 14.6, 14.7, 14.8, 14.9, 15, 15.1, 15.2, 15.3, 15.4, 15.5]\n",
    "alphas2 = [5e-05, 0.0001, 0.0002, 0.0003, 0.0004, 0.0005, 0.0006, 0.0007, 0.0008]\n",
    "e_alphas = [0.0001, 0.0002, 0.0003, 0.0004, 0.0005, 0.0006, 0.0007]\n",
    "e_l1ratio = [0.8, 0.85, 0.9, 0.95, 0.99, 1]"
   ]
  },
  {
   "cell_type": "markdown",
   "metadata": {},
   "source": [
    "### Defining Models / Pipelines / Stacked Regressors"
   ]
  },
  {
   "cell_type": "code",
   "execution_count": 28,
   "metadata": {},
   "outputs": [],
   "source": [
    "from sklearn.pipeline import make_pipeline\n",
    "from sklearn.preprocessing import RobustScaler\n",
    "from sklearn.svm import SVR\n",
    "ridge = make_pipeline(RobustScaler(), RidgeCV(alphas=alphas_alt, cv=kfolds))\n",
    "lasso = make_pipeline(RobustScaler(), LassoCV(max_iter=1e7, alphas=alphas2, random_state=42, cv=kfolds))\n",
    "elasticnet = make_pipeline(RobustScaler(), ElasticNetCV(max_iter=1e7, alphas=e_alphas, cv=kfolds, l1_ratio=e_l1ratio))\n",
    "svr = make_pipeline(RobustScaler(), SVR(C= 20, epsilon= 0.008, gamma=0.0003,))"
   ]
  },
  {
   "cell_type": "code",
   "execution_count": 29,
   "metadata": {},
   "outputs": [],
   "source": [
    "from sklearn.ensemble import GradientBoostingRegressor\n",
    "gbr = GradientBoostingRegressor(n_estimators=3000, learning_rate=0.05, max_depth=4, max_features='sqrt',\n",
    "                                min_samples_leaf=15, min_samples_split=10, loss='huber', random_state =42)"
   ]
  },
  {
   "cell_type": "code",
   "execution_count": 30,
   "metadata": {},
   "outputs": [],
   "source": [
    "# !pip install lightgbm\n",
    "from lightgbm import LGBMRegressor\n",
    "lightgbm = LGBMRegressor(objective='regression', \n",
    "                           num_leaves=4,\n",
    "                           learning_rate=0.01, \n",
    "                           n_estimators=5000,\n",
    "                           max_bin=200, \n",
    "                           bagging_fraction=0.75,\n",
    "                           bagging_freq=5, \n",
    "                           bagging_seed=7,\n",
    "                           feature_fraction=0.2,\n",
    "                           feature_fraction_seed=7,\n",
    "                           verbose=-1)"
   ]
  },
  {
   "cell_type": "code",
   "execution_count": 31,
   "metadata": {},
   "outputs": [],
   "source": [
    "import xgboost as xgb\n",
    "xgboost = xgb.XGBRegressor(learning_rate=0.01,n_estimators=3460,max_depth=3, min_child_weight=0,\n",
    "                           gamma=0, subsample=0.7,colsample_bytree=0.7,objective='reg:linear',\n",
    "                           nthread=-1,scale_pos_weight=1,seed=27,reg_alpha=0.00006)"
   ]
  },
  {
   "cell_type": "code",
   "execution_count": 32,
   "metadata": {},
   "outputs": [],
   "source": [
    "from mlxtend.regressor import StackingCVRegressor\n",
    "stack_gen = StackingCVRegressor(regressors=(ridge, lasso, elasticnet, gbr, xgboost, lightgbm),\n",
    "                                meta_regressor=xgboost,use_features_in_secondary=True)\n"
   ]
  },
  {
   "cell_type": "markdown",
   "metadata": {},
   "source": [
    "#### Performance scoring"
   ]
  },
  {
   "cell_type": "code",
   "execution_count": 33,
   "metadata": {},
   "outputs": [
    {
     "name": "stdout",
     "output_type": "stream",
     "text": [
      "RIDGE: 0.1256 (0.0248)\n",
      " 2020-07-26 09:07:27.514092\n",
      "LASSO: 0.1210 (0.0240)\n",
      " 2020-07-26 09:10:51.662197\n",
      "elastic net: 0.1209 (0.0240)\n",
      " 2020-07-26 09:18:29.387597\n",
      "SVR: 0.1224 (0.0315)\n",
      " 2020-07-26 09:19:00.447339\n",
      "lightgbm: 0.1185 (0.0173)\n",
      " 2020-07-26 09:19:17.944521\n",
      "gbr: 0.1184 (0.0232)\n",
      " 2020-07-26 09:21:20.527388\n",
      "[09:21:20] WARNING: /workspace/src/objective/regression_obj.cu:170: reg:linear is now deprecated in favor of reg:squarederror.\n",
      "[09:22:59] WARNING: /workspace/src/objective/regression_obj.cu:170: reg:linear is now deprecated in favor of reg:squarederror.\n",
      "[09:22:59] WARNING: /workspace/src/objective/regression_obj.cu:170: reg:linear is now deprecated in favor of reg:squarederror.\n",
      "[09:24:37] WARNING: /workspace/src/objective/regression_obj.cu:170: reg:linear is now deprecated in favor of reg:squarederror.\n",
      "[09:24:37] WARNING: /workspace/src/objective/regression_obj.cu:170: reg:linear is now deprecated in favor of reg:squarederror.\n",
      "[09:26:15] WARNING: /workspace/src/objective/regression_obj.cu:170: reg:linear is now deprecated in favor of reg:squarederror.\n",
      "[09:26:15] WARNING: /workspace/src/objective/regression_obj.cu:170: reg:linear is now deprecated in favor of reg:squarederror.\n",
      "[09:27:55] WARNING: /workspace/src/objective/regression_obj.cu:170: reg:linear is now deprecated in favor of reg:squarederror.\n",
      "[09:27:55] WARNING: /workspace/src/objective/regression_obj.cu:170: reg:linear is now deprecated in favor of reg:squarederror.\n",
      "[09:29:30] WARNING: /workspace/src/objective/regression_obj.cu:170: reg:linear is now deprecated in favor of reg:squarederror.\n",
      "[09:29:30] WARNING: /workspace/src/objective/regression_obj.cu:170: reg:linear is now deprecated in favor of reg:squarederror.\n",
      "[09:31:07] WARNING: /workspace/src/objective/regression_obj.cu:170: reg:linear is now deprecated in favor of reg:squarederror.\n",
      "[09:31:07] WARNING: /workspace/src/objective/regression_obj.cu:170: reg:linear is now deprecated in favor of reg:squarederror.\n",
      "[09:32:46] WARNING: /workspace/src/objective/regression_obj.cu:170: reg:linear is now deprecated in favor of reg:squarederror.\n",
      "[09:32:46] WARNING: /workspace/src/objective/regression_obj.cu:170: reg:linear is now deprecated in favor of reg:squarederror.\n",
      "[09:34:24] WARNING: /workspace/src/objective/regression_obj.cu:170: reg:linear is now deprecated in favor of reg:squarederror.\n",
      "[09:34:24] WARNING: /workspace/src/objective/regression_obj.cu:170: reg:linear is now deprecated in favor of reg:squarederror.\n",
      "[09:36:00] WARNING: /workspace/src/objective/regression_obj.cu:170: reg:linear is now deprecated in favor of reg:squarederror.\n",
      "[09:36:00] WARNING: /workspace/src/objective/regression_obj.cu:170: reg:linear is now deprecated in favor of reg:squarederror.\n",
      "[09:37:36] WARNING: /workspace/src/objective/regression_obj.cu:170: reg:linear is now deprecated in favor of reg:squarederror.\n",
      "xgboost: 0.1173 (0.0186)\n",
      " 2020-07-26 09:37:36.143299\n",
      "Done\n"
     ]
    }
   ],
   "source": [
    "import datetime\n",
    "score = cv_rmse(ridge)\n",
    "print(\"RIDGE: {:.4f} ({:.4f})\\n\".format(score.mean(), score.std()), datetime.datetime.now(), )\n",
    "\n",
    "score = cv_rmse(lasso)\n",
    "print(\"LASSO: {:.4f} ({:.4f})\\n\".format(score.mean(), score.std()), datetime.datetime.now(), )\n",
    "\n",
    "score = cv_rmse(elasticnet)\n",
    "print(\"elastic net: {:.4f} ({:.4f})\\n\".format(score.mean(), score.std()), datetime.datetime.now(), )\n",
    "\n",
    "score = cv_rmse(svr)\n",
    "print(\"SVR: {:.4f} ({:.4f})\\n\".format(score.mean(), score.std()), datetime.datetime.now(), )\n",
    "\n",
    "score = cv_rmse(lightgbm)\n",
    "print(\"lightgbm: {:.4f} ({:.4f})\\n\".format(score.mean(), score.std()), datetime.datetime.now(), )\n",
    "\n",
    "score = cv_rmse(gbr)\n",
    "print(\"gbr: {:.4f} ({:.4f})\\n\".format(score.mean(), score.std()), datetime.datetime.now(), )\n",
    "\n",
    "score = cv_rmse(xgboost)\n",
    "print(\"xgboost: {:.4f} ({:.4f})\\n\".format(score.mean(), score.std()), datetime.datetime.now(), )\n",
    "\n",
    "\n",
    "print('Done')"
   ]
  },
  {
   "cell_type": "markdown",
   "metadata": {},
   "source": [
    "# PREDICTIONS"
   ]
  },
  {
   "cell_type": "markdown",
   "metadata": {},
   "source": [
    "### Stacked Regressor"
   ]
  },
  {
   "cell_type": "code",
   "execution_count": 34,
   "metadata": {},
   "outputs": [
    {
     "name": "stdout",
     "output_type": "stream",
     "text": [
      "[09:45:35] WARNING: /workspace/src/objective/regression_obj.cu:170: reg:linear is now deprecated in favor of reg:squarederror.\n",
      "[09:47:01] WARNING: /workspace/src/objective/regression_obj.cu:170: reg:linear is now deprecated in favor of reg:squarederror.\n",
      "[09:47:01] WARNING: /workspace/src/objective/regression_obj.cu:170: reg:linear is now deprecated in favor of reg:squarederror.\n",
      "[09:48:30] WARNING: /workspace/src/objective/regression_obj.cu:170: reg:linear is now deprecated in favor of reg:squarederror.\n",
      "[09:48:30] WARNING: /workspace/src/objective/regression_obj.cu:170: reg:linear is now deprecated in favor of reg:squarederror.\n",
      "[09:49:57] WARNING: /workspace/src/objective/regression_obj.cu:170: reg:linear is now deprecated in favor of reg:squarederror.\n",
      "[09:49:57] WARNING: /workspace/src/objective/regression_obj.cu:170: reg:linear is now deprecated in favor of reg:squarederror.\n",
      "[09:51:24] WARNING: /workspace/src/objective/regression_obj.cu:170: reg:linear is now deprecated in favor of reg:squarederror.\n",
      "[09:51:24] WARNING: /workspace/src/objective/regression_obj.cu:170: reg:linear is now deprecated in favor of reg:squarederror.\n",
      "[09:52:49] WARNING: /workspace/src/objective/regression_obj.cu:170: reg:linear is now deprecated in favor of reg:squarederror.\n",
      "[09:53:01] WARNING: /workspace/src/objective/regression_obj.cu:170: reg:linear is now deprecated in favor of reg:squarederror.\n",
      "[09:54:49] WARNING: /workspace/src/objective/regression_obj.cu:170: reg:linear is now deprecated in favor of reg:squarederror.\n",
      "[09:56:13] WARNING: /workspace/src/objective/regression_obj.cu:170: reg:linear is now deprecated in favor of reg:squarederror.\n",
      "[09:58:01] WARNING: /workspace/src/objective/regression_obj.cu:170: reg:linear is now deprecated in favor of reg:squarederror.\n"
     ]
    },
    {
     "data": {
      "text/html": [
       "<div>\n",
       "<style scoped>\n",
       "    .dataframe tbody tr th:only-of-type {\n",
       "        vertical-align: middle;\n",
       "    }\n",
       "\n",
       "    .dataframe tbody tr th {\n",
       "        vertical-align: top;\n",
       "    }\n",
       "\n",
       "    .dataframe thead th {\n",
       "        text-align: right;\n",
       "    }\n",
       "</style>\n",
       "<table border=\"1\" class=\"dataframe\">\n",
       "  <thead>\n",
       "    <tr style=\"text-align: right;\">\n",
       "      <th></th>\n",
       "      <th>SalePrice</th>\n",
       "      <th>Id</th>\n",
       "    </tr>\n",
       "  </thead>\n",
       "  <tbody>\n",
       "    <tr>\n",
       "      <th>0</th>\n",
       "      <td>114759.468750</td>\n",
       "      <td>1461</td>\n",
       "    </tr>\n",
       "    <tr>\n",
       "      <th>1</th>\n",
       "      <td>161395.312500</td>\n",
       "      <td>1462</td>\n",
       "    </tr>\n",
       "    <tr>\n",
       "      <th>2</th>\n",
       "      <td>187720.812500</td>\n",
       "      <td>1463</td>\n",
       "    </tr>\n",
       "    <tr>\n",
       "      <th>3</th>\n",
       "      <td>198469.687500</td>\n",
       "      <td>1464</td>\n",
       "    </tr>\n",
       "    <tr>\n",
       "      <th>4</th>\n",
       "      <td>188314.687500</td>\n",
       "      <td>1465</td>\n",
       "    </tr>\n",
       "  </tbody>\n",
       "</table>\n",
       "</div>"
      ],
      "text/plain": [
       "      SalePrice    Id\n",
       "0 114759.468750  1461\n",
       "1 161395.312500  1462\n",
       "2 187720.812500  1463\n",
       "3 198469.687500  1464\n",
       "4 188314.687500  1465"
      ]
     },
     "execution_count": 34,
     "metadata": {},
     "output_type": "execute_result"
    }
   ],
   "source": [
    "stack_gen_model = stack_gen.fit(X_train, y)\n",
    "\n",
    "preds_sg = stack_gen_model.predict(np.array(X_test))\n",
    "\n",
    "sg_preds = pd.DataFrame(dict(SalePrice=np.expm1(preds_sg), Id=test.Id))\n",
    "sg_preds.head()"
   ]
  },
  {
   "cell_type": "markdown",
   "metadata": {},
   "source": [
    "### Ridge"
   ]
  },
  {
   "cell_type": "code",
   "execution_count": 35,
   "metadata": {},
   "outputs": [
    {
     "data": {
      "text/html": [
       "<div>\n",
       "<style scoped>\n",
       "    .dataframe tbody tr th:only-of-type {\n",
       "        vertical-align: middle;\n",
       "    }\n",
       "\n",
       "    .dataframe tbody tr th {\n",
       "        vertical-align: top;\n",
       "    }\n",
       "\n",
       "    .dataframe thead th {\n",
       "        text-align: right;\n",
       "    }\n",
       "</style>\n",
       "<table border=\"1\" class=\"dataframe\">\n",
       "  <thead>\n",
       "    <tr style=\"text-align: right;\">\n",
       "      <th></th>\n",
       "      <th>SalePrice</th>\n",
       "      <th>Id</th>\n",
       "    </tr>\n",
       "  </thead>\n",
       "  <tbody>\n",
       "    <tr>\n",
       "      <th>0</th>\n",
       "      <td>115239.510126</td>\n",
       "      <td>1461</td>\n",
       "    </tr>\n",
       "    <tr>\n",
       "      <th>1</th>\n",
       "      <td>150724.148444</td>\n",
       "      <td>1462</td>\n",
       "    </tr>\n",
       "    <tr>\n",
       "      <th>2</th>\n",
       "      <td>182128.448500</td>\n",
       "      <td>1463</td>\n",
       "    </tr>\n",
       "    <tr>\n",
       "      <th>3</th>\n",
       "      <td>190481.951753</td>\n",
       "      <td>1464</td>\n",
       "    </tr>\n",
       "    <tr>\n",
       "      <th>4</th>\n",
       "      <td>192087.280597</td>\n",
       "      <td>1465</td>\n",
       "    </tr>\n",
       "  </tbody>\n",
       "</table>\n",
       "</div>"
      ],
      "text/plain": [
       "      SalePrice    Id\n",
       "0 115239.510126  1461\n",
       "1 150724.148444  1462\n",
       "2 182128.448500  1463\n",
       "3 190481.951753  1464\n",
       "4 192087.280597  1465"
      ]
     },
     "execution_count": 35,
     "metadata": {},
     "output_type": "execute_result"
    }
   ],
   "source": [
    "model_ridge = ridge\n",
    "model_ridge.fit(X_train, y)\n",
    "\n",
    "preds_r = model_ridge.predict(X_test)\n",
    "\n",
    "ridge_preds = pd.DataFrame(dict(SalePrice=np.expm1(preds_r), Id=test.Id))\n",
    "ridge_preds.head()"
   ]
  },
  {
   "cell_type": "markdown",
   "metadata": {},
   "source": [
    "### Lasso"
   ]
  },
  {
   "cell_type": "code",
   "execution_count": 36,
   "metadata": {},
   "outputs": [
    {
     "data": {
      "text/html": [
       "<div>\n",
       "<style scoped>\n",
       "    .dataframe tbody tr th:only-of-type {\n",
       "        vertical-align: middle;\n",
       "    }\n",
       "\n",
       "    .dataframe tbody tr th {\n",
       "        vertical-align: top;\n",
       "    }\n",
       "\n",
       "    .dataframe thead th {\n",
       "        text-align: right;\n",
       "    }\n",
       "</style>\n",
       "<table border=\"1\" class=\"dataframe\">\n",
       "  <thead>\n",
       "    <tr style=\"text-align: right;\">\n",
       "      <th></th>\n",
       "      <th>SalePrice</th>\n",
       "      <th>Id</th>\n",
       "    </tr>\n",
       "  </thead>\n",
       "  <tbody>\n",
       "    <tr>\n",
       "      <th>0</th>\n",
       "      <td>116115.592109</td>\n",
       "      <td>1461</td>\n",
       "    </tr>\n",
       "    <tr>\n",
       "      <th>1</th>\n",
       "      <td>158371.996138</td>\n",
       "      <td>1462</td>\n",
       "    </tr>\n",
       "    <tr>\n",
       "      <th>2</th>\n",
       "      <td>181103.879318</td>\n",
       "      <td>1463</td>\n",
       "    </tr>\n",
       "    <tr>\n",
       "      <th>3</th>\n",
       "      <td>196012.281692</td>\n",
       "      <td>1464</td>\n",
       "    </tr>\n",
       "    <tr>\n",
       "      <th>4</th>\n",
       "      <td>197467.241447</td>\n",
       "      <td>1465</td>\n",
       "    </tr>\n",
       "  </tbody>\n",
       "</table>\n",
       "</div>"
      ],
      "text/plain": [
       "      SalePrice    Id\n",
       "0 116115.592109  1461\n",
       "1 158371.996138  1462\n",
       "2 181103.879318  1463\n",
       "3 196012.281692  1464\n",
       "4 197467.241447  1465"
      ]
     },
     "execution_count": 36,
     "metadata": {},
     "output_type": "execute_result"
    }
   ],
   "source": [
    "model_lasso = lasso\n",
    "model_lasso.fit(X_train, y)\n",
    "\n",
    "preds_l = model_lasso.predict(X_test)\n",
    "\n",
    "lasso_preds = pd.DataFrame(dict(SalePrice=np.expm1(preds_l), Id=test.Id))\n",
    "lasso_preds.head()"
   ]
  },
  {
   "cell_type": "markdown",
   "metadata": {},
   "source": [
    "### XGBoost"
   ]
  },
  {
   "cell_type": "code",
   "execution_count": 37,
   "metadata": {},
   "outputs": [
    {
     "name": "stdout",
     "output_type": "stream",
     "text": [
      "[09:58:34] WARNING: /workspace/src/objective/regression_obj.cu:170: reg:linear is now deprecated in favor of reg:squarederror.\n",
      "[10:00:21] WARNING: /workspace/src/objective/regression_obj.cu:170: reg:linear is now deprecated in favor of reg:squarederror.\n"
     ]
    },
    {
     "data": {
      "text/html": [
       "<div>\n",
       "<style scoped>\n",
       "    .dataframe tbody tr th:only-of-type {\n",
       "        vertical-align: middle;\n",
       "    }\n",
       "\n",
       "    .dataframe tbody tr th {\n",
       "        vertical-align: top;\n",
       "    }\n",
       "\n",
       "    .dataframe thead th {\n",
       "        text-align: right;\n",
       "    }\n",
       "</style>\n",
       "<table border=\"1\" class=\"dataframe\">\n",
       "  <thead>\n",
       "    <tr style=\"text-align: right;\">\n",
       "      <th></th>\n",
       "      <th>SalePrice</th>\n",
       "      <th>Id</th>\n",
       "    </tr>\n",
       "  </thead>\n",
       "  <tbody>\n",
       "    <tr>\n",
       "      <th>0</th>\n",
       "      <td>125964.453125</td>\n",
       "      <td>1461</td>\n",
       "    </tr>\n",
       "    <tr>\n",
       "      <th>1</th>\n",
       "      <td>161375.453125</td>\n",
       "      <td>1462</td>\n",
       "    </tr>\n",
       "    <tr>\n",
       "      <th>2</th>\n",
       "      <td>185708.328125</td>\n",
       "      <td>1463</td>\n",
       "    </tr>\n",
       "    <tr>\n",
       "      <th>3</th>\n",
       "      <td>192559.781250</td>\n",
       "      <td>1464</td>\n",
       "    </tr>\n",
       "    <tr>\n",
       "      <th>4</th>\n",
       "      <td>189218.031250</td>\n",
       "      <td>1465</td>\n",
       "    </tr>\n",
       "  </tbody>\n",
       "</table>\n",
       "</div>"
      ],
      "text/plain": [
       "      SalePrice    Id\n",
       "0 125964.453125  1461\n",
       "1 161375.453125  1462\n",
       "2 185708.328125  1463\n",
       "3 192559.781250  1464\n",
       "4 189218.031250  1465"
      ]
     },
     "execution_count": 37,
     "metadata": {},
     "output_type": "execute_result"
    }
   ],
   "source": [
    "# import xgboost as xgb\n",
    "\n",
    "regr = xgboost\n",
    "regr.fit(X_train,y)\n",
    "y_pred_xgb = regr.predict(X_test)\n",
    "xgb_preds = pd.DataFrame(dict(SalePrice=np.expm1(y_pred_xgb), Id=test.Id))\n",
    "\n",
    "xgb_preds.head()"
   ]
  },
  {
   "cell_type": "code",
   "execution_count": 38,
   "metadata": {},
   "outputs": [
    {
     "name": "stdout",
     "output_type": "stream",
     "text": [
      "XGB train mse: 0.002254344079696241\n"
     ]
    },
    {
     "data": {
      "text/plain": [
       "<matplotlib.axes._subplots.AxesSubplot at 0x7f3a743ba390>"
      ]
     },
     "execution_count": 38,
     "metadata": {},
     "output_type": "execute_result"
    },
    {
     "data": {
      "image/png": "[encoded data removed]",
      "text/plain": [
       "<Figure size 432x288 with 1 Axes>"
      ]
     },
     "metadata": {
      "needs_background": "light"
     },
     "output_type": "display_data"
    }
   ],
   "source": [
    "# residuals from best performing method for validation\n",
    "y_pred_xgb_train = regr.predict(X_train)\n",
    "print('XGB train mse: {}'.format(mean_squared_error(y, y_pred_xgb_train)))\n",
    "pred_to_plot = pd.DataFrame(dict(best_pred=preds_l, new=np.expm1(y_pred_xgb)))\n",
    "pred_to_plot.plot(x='best_pred', y='new', kind='scatter')"
   ]
  },
  {
   "cell_type": "markdown",
   "metadata": {},
   "source": [
    "### Light Gradient Boost"
   ]
  },
  {
   "cell_type": "code",
   "execution_count": 39,
   "metadata": {},
   "outputs": [
    {
     "data": {
      "text/html": [
       "<div>\n",
       "<style scoped>\n",
       "    .dataframe tbody tr th:only-of-type {\n",
       "        vertical-align: middle;\n",
       "    }\n",
       "\n",
       "    .dataframe tbody tr th {\n",
       "        vertical-align: top;\n",
       "    }\n",
       "\n",
       "    .dataframe thead th {\n",
       "        text-align: right;\n",
       "    }\n",
       "</style>\n",
       "<table border=\"1\" class=\"dataframe\">\n",
       "  <thead>\n",
       "    <tr style=\"text-align: right;\">\n",
       "      <th></th>\n",
       "      <th>SalePrice</th>\n",
       "      <th>Id</th>\n",
       "    </tr>\n",
       "  </thead>\n",
       "  <tbody>\n",
       "    <tr>\n",
       "      <th>0</th>\n",
       "      <td>121947.807972</td>\n",
       "      <td>1461</td>\n",
       "    </tr>\n",
       "    <tr>\n",
       "      <th>1</th>\n",
       "      <td>165969.048346</td>\n",
       "      <td>1462</td>\n",
       "    </tr>\n",
       "    <tr>\n",
       "      <th>2</th>\n",
       "      <td>182412.940948</td>\n",
       "      <td>1463</td>\n",
       "    </tr>\n",
       "    <tr>\n",
       "      <th>3</th>\n",
       "      <td>188135.737749</td>\n",
       "      <td>1464</td>\n",
       "    </tr>\n",
       "    <tr>\n",
       "      <th>4</th>\n",
       "      <td>192992.713102</td>\n",
       "      <td>1465</td>\n",
       "    </tr>\n",
       "  </tbody>\n",
       "</table>\n",
       "</div>"
      ],
      "text/plain": [
       "      SalePrice    Id\n",
       "0 121947.807972  1461\n",
       "1 165969.048346  1462\n",
       "2 182412.940948  1463\n",
       "3 188135.737749  1464\n",
       "4 192992.713102  1465"
      ]
     },
     "execution_count": 39,
     "metadata": {},
     "output_type": "execute_result"
    }
   ],
   "source": [
    "light_gbm_model = lightgbm.fit(X_train, y)\n",
    "lightgbm_predictions = light_gbm_model.predict(X_test)\n",
    "pred_lgbm = pd.DataFrame(dict(SalePrice=np.expm1(lightgbm_predictions), Id=test.Id))\n",
    "\n",
    "pred_lgbm.head()"
   ]
  },
  {
   "cell_type": "markdown",
   "metadata": {},
   "source": [
    "### Gradient Boost"
   ]
  },
  {
   "cell_type": "code",
   "execution_count": 40,
   "metadata": {},
   "outputs": [
    {
     "data": {
      "text/html": [
       "<div>\n",
       "<style scoped>\n",
       "    .dataframe tbody tr th:only-of-type {\n",
       "        vertical-align: middle;\n",
       "    }\n",
       "\n",
       "    .dataframe tbody tr th {\n",
       "        vertical-align: top;\n",
       "    }\n",
       "\n",
       "    .dataframe thead th {\n",
       "        text-align: right;\n",
       "    }\n",
       "</style>\n",
       "<table border=\"1\" class=\"dataframe\">\n",
       "  <thead>\n",
       "    <tr style=\"text-align: right;\">\n",
       "      <th></th>\n",
       "      <th>SalePrice</th>\n",
       "      <th>Id</th>\n",
       "    </tr>\n",
       "  </thead>\n",
       "  <tbody>\n",
       "    <tr>\n",
       "      <th>0</th>\n",
       "      <td>121377.552968</td>\n",
       "      <td>1461</td>\n",
       "    </tr>\n",
       "    <tr>\n",
       "      <th>1</th>\n",
       "      <td>167931.632857</td>\n",
       "      <td>1462</td>\n",
       "    </tr>\n",
       "    <tr>\n",
       "      <th>2</th>\n",
       "      <td>196017.767101</td>\n",
       "      <td>1463</td>\n",
       "    </tr>\n",
       "    <tr>\n",
       "      <th>3</th>\n",
       "      <td>198826.651598</td>\n",
       "      <td>1464</td>\n",
       "    </tr>\n",
       "    <tr>\n",
       "      <th>4</th>\n",
       "      <td>184258.618978</td>\n",
       "      <td>1465</td>\n",
       "    </tr>\n",
       "  </tbody>\n",
       "</table>\n",
       "</div>"
      ],
      "text/plain": [
       "      SalePrice    Id\n",
       "0 121377.552968  1461\n",
       "1 167931.632857  1462\n",
       "2 196017.767101  1463\n",
       "3 198826.651598  1464\n",
       "4 184258.618978  1465"
      ]
     },
     "execution_count": 40,
     "metadata": {},
     "output_type": "execute_result"
    }
   ],
   "source": [
    "gbr_model = gbr.fit(X_train, y)\n",
    "gbr_predictions = gbr_model.predict(X_test)\n",
    "pred_gbr = pd.DataFrame(dict(SalePrice=np.expm1(gbr_predictions), Id=test.Id))\n",
    "\n",
    "pred_gbr.head()"
   ]
  },
  {
   "cell_type": "markdown",
   "metadata": {},
   "source": [
    "### Support Vector"
   ]
  },
  {
   "cell_type": "code",
   "execution_count": 41,
   "metadata": {},
   "outputs": [
    {
     "name": "stdout",
     "output_type": "stream",
     "text": [
      "SVR train mse: 0.011414852069105998\n"
     ]
    },
    {
     "data": {
      "text/html": [
       "<div>\n",
       "<style scoped>\n",
       "    .dataframe tbody tr th:only-of-type {\n",
       "        vertical-align: middle;\n",
       "    }\n",
       "\n",
       "    .dataframe tbody tr th {\n",
       "        vertical-align: top;\n",
       "    }\n",
       "\n",
       "    .dataframe thead th {\n",
       "        text-align: right;\n",
       "    }\n",
       "</style>\n",
       "<table border=\"1\" class=\"dataframe\">\n",
       "  <thead>\n",
       "    <tr style=\"text-align: right;\">\n",
       "      <th></th>\n",
       "      <th>SalePrice</th>\n",
       "      <th>Id</th>\n",
       "    </tr>\n",
       "  </thead>\n",
       "  <tbody>\n",
       "    <tr>\n",
       "      <th>0</th>\n",
       "      <td>120285.064406</td>\n",
       "      <td>1461</td>\n",
       "    </tr>\n",
       "    <tr>\n",
       "      <th>1</th>\n",
       "      <td>163474.592381</td>\n",
       "      <td>1462</td>\n",
       "    </tr>\n",
       "    <tr>\n",
       "      <th>2</th>\n",
       "      <td>195175.205111</td>\n",
       "      <td>1463</td>\n",
       "    </tr>\n",
       "    <tr>\n",
       "      <th>3</th>\n",
       "      <td>199953.129595</td>\n",
       "      <td>1464</td>\n",
       "    </tr>\n",
       "    <tr>\n",
       "      <th>4</th>\n",
       "      <td>191560.227461</td>\n",
       "      <td>1465</td>\n",
       "    </tr>\n",
       "  </tbody>\n",
       "</table>\n",
       "</div>"
      ],
      "text/plain": [
       "      SalePrice    Id\n",
       "0 120285.064406  1461\n",
       "1 163474.592381  1462\n",
       "2 195175.205111  1463\n",
       "3 199953.129595  1464\n",
       "4 191560.227461  1465"
      ]
     },
     "execution_count": 41,
     "metadata": {},
     "output_type": "execute_result"
    }
   ],
   "source": [
    "# from sklearn.svm import SVR\n",
    "SVR_model = svr\n",
    "SVR_model.fit(X_train, y)\n",
    "\n",
    "# to evaluate the models\n",
    "from sklearn.metrics import mean_squared_error\n",
    "\n",
    "pred_svr = SVR_model.predict(X_train)\n",
    "print('SVR train mse: {}'.format(mean_squared_error(y, pred_svr)))\n",
    "pred_svr = SVR_model.predict(X_test)\n",
    "preds_svr = pd.DataFrame(dict(SalePrice=np.expm1(pred_svr), Id=test.Id))\n",
    "\n",
    "preds_svr.head()"
   ]
  },
  {
   "cell_type": "markdown",
   "metadata": {},
   "source": [
    "### Elastic Net"
   ]
  },
  {
   "cell_type": "code",
   "execution_count": 42,
   "metadata": {},
   "outputs": [
    {
     "data": {
      "text/html": [
       "<div>\n",
       "<style scoped>\n",
       "    .dataframe tbody tr th:only-of-type {\n",
       "        vertical-align: middle;\n",
       "    }\n",
       "\n",
       "    .dataframe tbody tr th {\n",
       "        vertical-align: top;\n",
       "    }\n",
       "\n",
       "    .dataframe thead th {\n",
       "        text-align: right;\n",
       "    }\n",
       "</style>\n",
       "<table border=\"1\" class=\"dataframe\">\n",
       "  <thead>\n",
       "    <tr style=\"text-align: right;\">\n",
       "      <th></th>\n",
       "      <th>SalePrice</th>\n",
       "      <th>Id</th>\n",
       "    </tr>\n",
       "  </thead>\n",
       "  <tbody>\n",
       "    <tr>\n",
       "      <th>0</th>\n",
       "      <td>116115.592109</td>\n",
       "      <td>1461</td>\n",
       "    </tr>\n",
       "    <tr>\n",
       "      <th>1</th>\n",
       "      <td>158371.996138</td>\n",
       "      <td>1462</td>\n",
       "    </tr>\n",
       "    <tr>\n",
       "      <th>2</th>\n",
       "      <td>181103.879318</td>\n",
       "      <td>1463</td>\n",
       "    </tr>\n",
       "    <tr>\n",
       "      <th>3</th>\n",
       "      <td>196012.281692</td>\n",
       "      <td>1464</td>\n",
       "    </tr>\n",
       "    <tr>\n",
       "      <th>4</th>\n",
       "      <td>197467.241447</td>\n",
       "      <td>1465</td>\n",
       "    </tr>\n",
       "  </tbody>\n",
       "</table>\n",
       "</div>"
      ],
      "text/plain": [
       "      SalePrice    Id\n",
       "0 116115.592109  1461\n",
       "1 158371.996138  1462\n",
       "2 181103.879318  1463\n",
       "3 196012.281692  1464\n",
       "4 197467.241447  1465"
      ]
     },
     "execution_count": 42,
     "metadata": {},
     "output_type": "execute_result"
    }
   ],
   "source": [
    "elastic_net_model = elasticnet.fit(X_train, y)\n",
    "elastic_net_predictions = elastic_net_model.predict(X_test)\n",
    "pred_enet = pd.DataFrame(dict(SalePrice=np.expm1(elastic_net_predictions), Id=test.Id))\n",
    "\n",
    "pred_enet.head()"
   ]
  },
  {
   "cell_type": "markdown",
   "metadata": {},
   "source": [
    "### Random Forest"
   ]
  },
  {
   "cell_type": "code",
   "execution_count": 43,
   "metadata": {},
   "outputs": [
    {
     "name": "stdout",
     "output_type": "stream",
     "text": [
      "RF train mse: 0.03631071719496055\n"
     ]
    },
    {
     "data": {
      "text/html": [
       "<div>\n",
       "<style scoped>\n",
       "    .dataframe tbody tr th:only-of-type {\n",
       "        vertical-align: middle;\n",
       "    }\n",
       "\n",
       "    .dataframe tbody tr th {\n",
       "        vertical-align: top;\n",
       "    }\n",
       "\n",
       "    .dataframe thead th {\n",
       "        text-align: right;\n",
       "    }\n",
       "</style>\n",
       "<table border=\"1\" class=\"dataframe\">\n",
       "  <thead>\n",
       "    <tr style=\"text-align: right;\">\n",
       "      <th></th>\n",
       "      <th>SalePrice</th>\n",
       "      <th>Id</th>\n",
       "    </tr>\n",
       "  </thead>\n",
       "  <tbody>\n",
       "    <tr>\n",
       "      <th>0</th>\n",
       "      <td>146069.599441</td>\n",
       "      <td>1461</td>\n",
       "    </tr>\n",
       "    <tr>\n",
       "      <th>1</th>\n",
       "      <td>152909.740394</td>\n",
       "      <td>1462</td>\n",
       "    </tr>\n",
       "    <tr>\n",
       "      <th>2</th>\n",
       "      <td>151890.130487</td>\n",
       "      <td>1463</td>\n",
       "    </tr>\n",
       "    <tr>\n",
       "      <th>3</th>\n",
       "      <td>168578.492046</td>\n",
       "      <td>1464</td>\n",
       "    </tr>\n",
       "    <tr>\n",
       "      <th>4</th>\n",
       "      <td>201056.559730</td>\n",
       "      <td>1465</td>\n",
       "    </tr>\n",
       "  </tbody>\n",
       "</table>\n",
       "</div>"
      ],
      "text/plain": [
       "      SalePrice    Id\n",
       "0 146069.599441  1461\n",
       "1 152909.740394  1462\n",
       "2 151890.130487  1463\n",
       "3 168578.492046  1464\n",
       "4 201056.559730  1465"
      ]
     },
     "execution_count": 43,
     "metadata": {},
     "output_type": "execute_result"
    },
    {
     "data": {
      "image/png": "[encoded data removed]",
      "text/plain": [
       "<Figure size 432x288 with 1 Axes>"
      ]
     },
     "metadata": {
      "needs_background": "light"
     },
     "output_type": "display_data"
    }
   ],
   "source": [
    "from sklearn.ensemble import RandomForestRegressor\n",
    "regr = RandomForestRegressor(max_depth=2, random_state=0)\n",
    "regr.fit(X_train, y)\n",
    "y_pred_rf = regr.predict(X_test)\n",
    "# residuals from best performing method for validation\n",
    "y_pred_rf_train = regr.predict(X_train)\n",
    "print('RF train mse: {}'.format(mean_squared_error(y, y_pred_rf_train)))\n",
    "pred_to_plot = pd.DataFrame(dict(best_pred=preds_l, new=np.expm1(y_pred_rf)))\n",
    "pred_to_plot.plot(x='best_pred', y='new', kind='scatter')\n",
    "\n",
    "\n",
    "rf_preds = pd.DataFrame(dict(SalePrice=np.expm1(y_pred_rf), Id=test.Id))\n",
    "\n",
    "rf_preds.head()\n"
   ]
  },
  {
   "cell_type": "markdown",
   "metadata": {},
   "source": [
    "### Stacked Regressor Combination 2"
   ]
  },
  {
   "cell_type": "code",
   "execution_count": 44,
   "metadata": {},
   "outputs": [
    {
     "name": "stdout",
     "output_type": "stream",
     "text": [
      "[10:07:50] WARNING: /workspace/src/objective/regression_obj.cu:170: reg:linear is now deprecated in favor of reg:squarederror.\n",
      "[10:09:37] WARNING: /workspace/src/objective/regression_obj.cu:170: reg:linear is now deprecated in favor of reg:squarederror.\n"
     ]
    },
    {
     "data": {
      "text/html": [
       "<div>\n",
       "<style scoped>\n",
       "    .dataframe tbody tr th:only-of-type {\n",
       "        vertical-align: middle;\n",
       "    }\n",
       "\n",
       "    .dataframe tbody tr th {\n",
       "        vertical-align: top;\n",
       "    }\n",
       "\n",
       "    .dataframe thead th {\n",
       "        text-align: right;\n",
       "    }\n",
       "</style>\n",
       "<table border=\"1\" class=\"dataframe\">\n",
       "  <thead>\n",
       "    <tr style=\"text-align: right;\">\n",
       "      <th></th>\n",
       "      <th>SalePrice</th>\n",
       "      <th>Id</th>\n",
       "    </tr>\n",
       "  </thead>\n",
       "  <tbody>\n",
       "    <tr>\n",
       "      <th>0</th>\n",
       "      <td>117414.398438</td>\n",
       "      <td>1461</td>\n",
       "    </tr>\n",
       "    <tr>\n",
       "      <th>1</th>\n",
       "      <td>157178.718750</td>\n",
       "      <td>1462</td>\n",
       "    </tr>\n",
       "    <tr>\n",
       "      <th>2</th>\n",
       "      <td>182598.640625</td>\n",
       "      <td>1463</td>\n",
       "    </tr>\n",
       "    <tr>\n",
       "      <th>3</th>\n",
       "      <td>194725.406250</td>\n",
       "      <td>1464</td>\n",
       "    </tr>\n",
       "    <tr>\n",
       "      <th>4</th>\n",
       "      <td>189724.703125</td>\n",
       "      <td>1465</td>\n",
       "    </tr>\n",
       "  </tbody>\n",
       "</table>\n",
       "</div>"
      ],
      "text/plain": [
       "      SalePrice    Id\n",
       "0 117414.398438  1461\n",
       "1 157178.718750  1462\n",
       "2 182598.640625  1463\n",
       "3 194725.406250  1464\n",
       "4 189724.703125  1465"
      ]
     },
     "execution_count": 44,
     "metadata": {},
     "output_type": "execute_result"
    }
   ],
   "source": [
    "#STACKED REGRESSOR 1\n",
    "stack_gen1 = StackingCVRegressor(regressors=(lasso,elasticnet),meta_regressor=xgboost,use_features_in_secondary=True)\n",
    "\n",
    "\n",
    "stack_gen_model1 = stack_gen1.fit(np.array(X_train),np.array(y))\n",
    "preds_sg1 = stack_gen_model1.predict(np.array(X_test))\n",
    "\n",
    "sg_preds1 = pd.DataFrame(dict(SalePrice=np.expm1(preds_sg1), Id=test.Id))\n",
    "sg_preds1.head()"
   ]
  },
  {
   "cell_type": "markdown",
   "metadata": {},
   "source": [
    "### Combined Predictions\n",
    "Their weights can be varied"
   ]
  },
  {
   "cell_type": "code",
   "execution_count": 45,
   "metadata": {},
   "outputs": [
    {
     "data": {
      "text/html": [
       "<div>\n",
       "<style scoped>\n",
       "    .dataframe tbody tr th:only-of-type {\n",
       "        vertical-align: middle;\n",
       "    }\n",
       "\n",
       "    .dataframe tbody tr th {\n",
       "        vertical-align: top;\n",
       "    }\n",
       "\n",
       "    .dataframe thead th {\n",
       "        text-align: right;\n",
       "    }\n",
       "</style>\n",
       "<table border=\"1\" class=\"dataframe\">\n",
       "  <thead>\n",
       "    <tr style=\"text-align: right;\">\n",
       "      <th></th>\n",
       "      <th>SalePrice</th>\n",
       "      <th>Id</th>\n",
       "    </tr>\n",
       "  </thead>\n",
       "  <tbody>\n",
       "    <tr>\n",
       "      <th>0</th>\n",
       "      <td>115571.251657</td>\n",
       "      <td>1461</td>\n",
       "    </tr>\n",
       "    <tr>\n",
       "      <th>1</th>\n",
       "      <td>159574.510241</td>\n",
       "      <td>1462</td>\n",
       "    </tr>\n",
       "    <tr>\n",
       "      <th>2</th>\n",
       "      <td>183722.209938</td>\n",
       "      <td>1463</td>\n",
       "    </tr>\n",
       "    <tr>\n",
       "      <th>3</th>\n",
       "      <td>196991.589105</td>\n",
       "      <td>1464</td>\n",
       "    </tr>\n",
       "    <tr>\n",
       "      <th>4</th>\n",
       "      <td>193754.068235</td>\n",
       "      <td>1465</td>\n",
       "    </tr>\n",
       "  </tbody>\n",
       "</table>\n",
       "</div>"
      ],
      "text/plain": [
       "      SalePrice    Id\n",
       "0 115571.251657  1461\n",
       "1 159574.510241  1462\n",
       "2 183722.209938  1463\n",
       "3 196991.589105  1464\n",
       "4 193754.068235  1465"
      ]
     },
     "execution_count": 45,
     "metadata": {},
     "output_type": "execute_result"
    }
   ],
   "source": [
    "#Lasso + SR\n",
    "preds_comb1 = 0.6 * preds_l + 0.4 * preds_sg\n",
    "comb_preds1 = pd.DataFrame(dict(SalePrice=np.expm1(preds_comb1), Id=test.Id))\n",
    "comb_preds1.head()"
   ]
  },
  {
   "cell_type": "code",
   "execution_count": 46,
   "metadata": {},
   "outputs": [
    {
     "data": {
      "text/html": [
       "<div>\n",
       "<style scoped>\n",
       "    .dataframe tbody tr th:only-of-type {\n",
       "        vertical-align: middle;\n",
       "    }\n",
       "\n",
       "    .dataframe tbody tr th {\n",
       "        vertical-align: top;\n",
       "    }\n",
       "\n",
       "    .dataframe thead th {\n",
       "        text-align: right;\n",
       "    }\n",
       "</style>\n",
       "<table border=\"1\" class=\"dataframe\">\n",
       "  <thead>\n",
       "    <tr style=\"text-align: right;\">\n",
       "      <th></th>\n",
       "      <th>SalePrice</th>\n",
       "      <th>Id</th>\n",
       "    </tr>\n",
       "  </thead>\n",
       "  <tbody>\n",
       "    <tr>\n",
       "      <th>0</th>\n",
       "      <td>115639.113060</td>\n",
       "      <td>1461</td>\n",
       "    </tr>\n",
       "    <tr>\n",
       "      <th>1</th>\n",
       "      <td>159423.650552</td>\n",
       "      <td>1462</td>\n",
       "    </tr>\n",
       "    <tr>\n",
       "      <th>2</th>\n",
       "      <td>183392.870505</td>\n",
       "      <td>1463</td>\n",
       "    </tr>\n",
       "    <tr>\n",
       "      <th>3</th>\n",
       "      <td>196868.873403</td>\n",
       "      <td>1464</td>\n",
       "    </tr>\n",
       "    <tr>\n",
       "      <th>4</th>\n",
       "      <td>194214.311410</td>\n",
       "      <td>1465</td>\n",
       "    </tr>\n",
       "  </tbody>\n",
       "</table>\n",
       "</div>"
      ],
      "text/plain": [
       "      SalePrice    Id\n",
       "0 115639.113060  1461\n",
       "1 159423.650552  1462\n",
       "2 183392.870505  1463\n",
       "3 196868.873403  1464\n",
       "4 194214.311410  1465"
      ]
     },
     "execution_count": 46,
     "metadata": {},
     "output_type": "execute_result"
    }
   ],
   "source": [
    "#SR + ENet\n",
    "preds_comb2 = 0.65 * elastic_net_predictions + 0.35 * preds_sg\n",
    "comb_preds2 = pd.DataFrame(dict(SalePrice=np.expm1(preds_comb2), Id=test.Id))\n",
    "comb_preds2.head()"
   ]
  },
  {
   "cell_type": "markdown",
   "metadata": {},
   "source": [
    "### Saving a few cominations for submission"
   ]
  },
  {
   "cell_type": "code",
   "execution_count": 47,
   "metadata": {},
   "outputs": [],
   "source": [
    "sg_preds.to_csv('/submissions/submission_Stacked_Reg_LogTranform_Tuned.csv',index=False)\n",
    "sg_preds1.to_csv('/submissions/submission_Stacked_Reg1_LogTranform_Tuned.csv',index=False)\n",
    "comb_preds1.to_csv('/submissions/submission_Lasso_Stacked_Reg_LogTransform_Tuned.csv',index=False)\n",
    "comb_preds2.to_csv('/submissions/submission_Stacked_Reg_ENet_LogTransform_Tuned.csv',index=False)"
   ]
  }
 ],
 "metadata": {
  "kernelspec": {
   "display_name": "Python 3",
   "language": "python",
   "name": "python3"
  },
  "language_info": {
   "codemirror_mode": {
    "name": "ipython",
    "version": 3
   },
   "file_extension": ".py",
   "mimetype": "text/x-python",
   "name": "python",
   "nbconvert_exporter": "python",
   "pygments_lexer": "ipython3",
   "version": "3.7.1"
  }
 },
 "nbformat": 4,
 "nbformat_minor": 4
}
